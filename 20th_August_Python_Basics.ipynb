{
 "cells": [
  {
   "cell_type": "code",
   "execution_count": null,
   "id": "efeca465-a8c2-4865-bce6-7418796122d4",
   "metadata": {},
   "outputs": [],
   "source": [
    "'''TOPIC: String Based Assignment Problem'''"
   ]
  },
  {
   "cell_type": "code",
   "execution_count": null,
   "id": "5d9f35f1-ddb4-4fe4-bfc3-4080fee20219",
   "metadata": {},
   "outputs": [],
   "source": [
    "#1. Write a program to reverse a string."
   ]
  },
  {
   "cell_type": "code",
   "execution_count": 3,
   "id": "0c331776-8c1e-4ac4-93ff-2412f812475a",
   "metadata": {},
   "outputs": [
    {
     "name": "stdin",
     "output_type": "stream",
     "text": [
      "Enter a string:  Mysuru\n"
     ]
    }
   ],
   "source": [
    "s1= input(\"Enter a string: \")"
   ]
  },
  {
   "cell_type": "code",
   "execution_count": 4,
   "id": "d688662f-1338-433e-9b2a-2e518a13012b",
   "metadata": {},
   "outputs": [
    {
     "data": {
      "text/plain": [
       "'urusyM'"
      ]
     },
     "execution_count": 4,
     "metadata": {},
     "output_type": "execute_result"
    }
   ],
   "source": [
    "s1[::-1]"
   ]
  },
  {
   "cell_type": "code",
   "execution_count": null,
   "id": "be290d27-3098-4cee-8696-566bb86ad521",
   "metadata": {},
   "outputs": [],
   "source": []
  },
  {
   "cell_type": "code",
   "execution_count": null,
   "id": "fbba3d36-77c6-4aa2-8d3e-733c6ebf6fa5",
   "metadata": {},
   "outputs": [],
   "source": [
    "#2. Check if a string is a palindrome. "
   ]
  },
  {
   "cell_type": "code",
   "execution_count": 9,
   "id": "4332d458-77df-4c60-b6fe-490842b73b14",
   "metadata": {},
   "outputs": [],
   "source": [
    "s2='mom'"
   ]
  },
  {
   "cell_type": "code",
   "execution_count": 10,
   "id": "93763eb6-b2ec-4b8f-ac14-baeb6a599cde",
   "metadata": {},
   "outputs": [],
   "source": [
    "s3=s2[::-1]"
   ]
  },
  {
   "cell_type": "code",
   "execution_count": 12,
   "id": "8801ade5-7988-4892-9434-a214c4f041e8",
   "metadata": {},
   "outputs": [
    {
     "data": {
      "text/plain": [
       "'mom'"
      ]
     },
     "execution_count": 12,
     "metadata": {},
     "output_type": "execute_result"
    }
   ],
   "source": [
    "s3"
   ]
  },
  {
   "cell_type": "code",
   "execution_count": 13,
   "id": "5b671a9d-622d-4d75-aefd-4901e4c59055",
   "metadata": {},
   "outputs": [
    {
     "data": {
      "text/plain": [
       "'mom'"
      ]
     },
     "execution_count": 13,
     "metadata": {},
     "output_type": "execute_result"
    }
   ],
   "source": [
    "s2"
   ]
  },
  {
   "cell_type": "code",
   "execution_count": 15,
   "id": "ed876653-024e-4f54-8d96-97179dc29d25",
   "metadata": {},
   "outputs": [
    {
     "data": {
      "text/plain": [
       "True"
      ]
     },
     "execution_count": 15,
     "metadata": {},
     "output_type": "execute_result"
    }
   ],
   "source": [
    "#if s2 is equals to s3 then it is a palindrome else not\n",
    "s2==s3"
   ]
  },
  {
   "cell_type": "code",
   "execution_count": null,
   "id": "51e0c567-d323-4d07-832c-e952bd9c0822",
   "metadata": {},
   "outputs": [],
   "source": []
  },
  {
   "cell_type": "code",
   "execution_count": null,
   "id": "6da07abc-458b-4ea9-b22c-8dca8a10ce91",
   "metadata": {},
   "outputs": [],
   "source": [
    "#3. Convert a string to uppercase. "
   ]
  },
  {
   "cell_type": "code",
   "execution_count": 18,
   "id": "724d4093-80e8-46b4-b670-98635b4dd3f6",
   "metadata": {},
   "outputs": [],
   "source": [
    "s4 = 'capital city of karnataka is bangalore'"
   ]
  },
  {
   "cell_type": "code",
   "execution_count": 22,
   "id": "abf5d3cc-7e9d-4d9a-9264-a68c71110209",
   "metadata": {},
   "outputs": [
    {
     "data": {
      "text/plain": [
       "'CAPITAL CITY OF KARNATAKA IS BANGALORE'"
      ]
     },
     "execution_count": 22,
     "metadata": {},
     "output_type": "execute_result"
    }
   ],
   "source": [
    "str.upper(s4)"
   ]
  },
  {
   "cell_type": "raw",
   "id": "61cedc23-e718-4dc4-87c6-c24847ab08f7",
   "metadata": {},
   "source": []
  },
  {
   "cell_type": "code",
   "execution_count": null,
   "id": "dde5657d-3db7-4c6a-a9a3-0d2619666619",
   "metadata": {},
   "outputs": [],
   "source": [
    "#4. Convert a string to lowercase. "
   ]
  },
  {
   "cell_type": "code",
   "execution_count": 24,
   "id": "338ef4a7-b5ac-4798-8324-401cdfb934c6",
   "metadata": {},
   "outputs": [],
   "source": [
    "s5= \"I LOVE PYTHON\""
   ]
  },
  {
   "cell_type": "code",
   "execution_count": 25,
   "id": "61fb315d-ec82-4421-9bca-ef591f85df4a",
   "metadata": {},
   "outputs": [
    {
     "data": {
      "text/plain": [
       "'i love python'"
      ]
     },
     "execution_count": 25,
     "metadata": {},
     "output_type": "execute_result"
    }
   ],
   "source": [
    "str.lower(s5)"
   ]
  },
  {
   "cell_type": "code",
   "execution_count": null,
   "id": "8c6a848f-6ba2-4327-907b-ba2371840701",
   "metadata": {},
   "outputs": [],
   "source": []
  },
  {
   "cell_type": "code",
   "execution_count": null,
   "id": "77cfa870-fb07-480a-bb04-ece793c279b8",
   "metadata": {},
   "outputs": [],
   "source": [
    "#5. Count the number of vowels in a string."
   ]
  },
  {
   "cell_type": "code",
   "execution_count": 26,
   "id": "9de942c2-f20b-4082-be14-813e1d03ff6c",
   "metadata": {},
   "outputs": [
    {
     "name": "stdin",
     "output_type": "stream",
     "text": [
      "Enter sentence:  India is my country\n"
     ]
    }
   ],
   "source": [
    "s6= input(\"Enter sentence: \")"
   ]
  },
  {
   "cell_type": "code",
   "execution_count": 29,
   "id": "f45c959b-a010-4f2f-b653-cb7113bd3de5",
   "metadata": {},
   "outputs": [],
   "source": [
    "#counting a in given sentence\n",
    "a=s6.count('a') "
   ]
  },
  {
   "cell_type": "code",
   "execution_count": 30,
   "id": "381d8075-2e84-45c7-8204-b864f1575ae2",
   "metadata": {},
   "outputs": [],
   "source": [
    "e=s6.count('e') "
   ]
  },
  {
   "cell_type": "code",
   "execution_count": 31,
   "id": "de857b5c-2009-41ff-a73e-19121cd0a807",
   "metadata": {},
   "outputs": [],
   "source": [
    "i=s6.count('i') "
   ]
  },
  {
   "cell_type": "code",
   "execution_count": 32,
   "id": "ec589c55-b93a-4d85-a6e9-d0654784632d",
   "metadata": {},
   "outputs": [],
   "source": [
    "o=s6.count('o') "
   ]
  },
  {
   "cell_type": "code",
   "execution_count": 33,
   "id": "b84008a9-104a-4cf3-a007-fb24eb1a4b17",
   "metadata": {},
   "outputs": [],
   "source": [
    "u=s6.count('u') "
   ]
  },
  {
   "cell_type": "code",
   "execution_count": 37,
   "id": "59a1d5e1-fd7c-4299-98fc-aabf390af0b5",
   "metadata": {},
   "outputs": [],
   "source": [
    "#adding all vowels counts\n",
    "vowels=a+e+i+o+u"
   ]
  },
  {
   "cell_type": "code",
   "execution_count": 38,
   "id": "eda6c9c5-b137-41b7-a843-3d2406eda3b7",
   "metadata": {},
   "outputs": [
    {
     "data": {
      "text/plain": [
       "5"
      ]
     },
     "execution_count": 38,
     "metadata": {},
     "output_type": "execute_result"
    }
   ],
   "source": [
    "vowels"
   ]
  },
  {
   "cell_type": "code",
   "execution_count": null,
   "id": "62ed9769-b9c1-4768-b12f-c8306b61b271",
   "metadata": {},
   "outputs": [],
   "source": []
  },
  {
   "cell_type": "code",
   "execution_count": null,
   "id": "95be7e21-0451-4e27-8faf-39ab81f72781",
   "metadata": {},
   "outputs": [],
   "source": [
    "#6. Count the number of consonants in a string. "
   ]
  },
  {
   "cell_type": "code",
   "execution_count": 39,
   "id": "160bb052-aac0-4401-9987-a871895953ab",
   "metadata": {},
   "outputs": [
    {
     "name": "stdin",
     "output_type": "stream",
     "text": [
      "Enter sentence:  Prakruthi C Nayak\n"
     ]
    }
   ],
   "source": [
    "s6= input(\"Enter sentence: \")"
   ]
  },
  {
   "cell_type": "code",
   "execution_count": 40,
   "id": "0196750e-df3c-4aaf-9100-14e3f7c5f5e8",
   "metadata": {},
   "outputs": [],
   "source": [
    "a=s6.count('a') "
   ]
  },
  {
   "cell_type": "code",
   "execution_count": 41,
   "id": "fcce7824-ec90-4498-9844-c95f0311e38c",
   "metadata": {},
   "outputs": [],
   "source": [
    "e=s6.count('e') "
   ]
  },
  {
   "cell_type": "code",
   "execution_count": 42,
   "id": "213aef85-07ac-443c-b402-c883be7108e7",
   "metadata": {},
   "outputs": [],
   "source": [
    "i=s6.count('i') "
   ]
  },
  {
   "cell_type": "code",
   "execution_count": 43,
   "id": "f4cb495c-a9ee-4ae9-aa1e-7ea466fbd9fd",
   "metadata": {},
   "outputs": [],
   "source": [
    "o=s6.count('o') "
   ]
  },
  {
   "cell_type": "code",
   "execution_count": 44,
   "id": "181949de-7e35-447e-bee7-66d416e82d29",
   "metadata": {},
   "outputs": [],
   "source": [
    "u=s6.count('u') "
   ]
  },
  {
   "cell_type": "code",
   "execution_count": 46,
   "id": "b5021262-eefb-40d1-ab7f-9457a31966b8",
   "metadata": {},
   "outputs": [
    {
     "data": {
      "text/plain": [
       "12"
      ]
     },
     "execution_count": 46,
     "metadata": {},
     "output_type": "execute_result"
    }
   ],
   "source": [
    "len(s6)-(a+e+i+o+u)"
   ]
  },
  {
   "cell_type": "code",
   "execution_count": null,
   "id": "9eb7381a-452a-419d-afc9-b6b700dd875a",
   "metadata": {},
   "outputs": [],
   "source": []
  },
  {
   "cell_type": "code",
   "execution_count": null,
   "id": "4994be1a-d737-442b-9f82-87b7086da271",
   "metadata": {},
   "outputs": [],
   "source": [
    "#7. Remove all whitespaces from a string. "
   ]
  },
  {
   "cell_type": "code",
   "execution_count": 47,
   "id": "527c2781-92bf-4894-b55d-b5db97e1a6ce",
   "metadata": {},
   "outputs": [],
   "source": [
    "s7= \"India is my country\""
   ]
  },
  {
   "cell_type": "code",
   "execution_count": 50,
   "id": "7711f3cd-6ce0-4cb8-b760-7158a27a0d77",
   "metadata": {},
   "outputs": [
    {
     "data": {
      "text/plain": [
       "'Indiaismycountry'"
      ]
     },
     "execution_count": 50,
     "metadata": {},
     "output_type": "execute_result"
    }
   ],
   "source": [
    "s7.replace(\" \",\"\")"
   ]
  },
  {
   "cell_type": "code",
   "execution_count": null,
   "id": "4087d6c8-dc4f-4bad-b005-a48deac23b5d",
   "metadata": {},
   "outputs": [],
   "source": []
  },
  {
   "cell_type": "code",
   "execution_count": null,
   "id": "736235c5-09f6-4a3d-abba-7cdf4b46de5e",
   "metadata": {},
   "outputs": [],
   "source": [
    "#8. Find the length of a string without using the `len()` function."
   ]
  },
  {
   "cell_type": "code",
   "execution_count": 51,
   "id": "d0357347-8f51-4633-b7a6-d31886f4da05",
   "metadata": {},
   "outputs": [],
   "source": [
    "s8= \"My name is Charan Raj\""
   ]
  },
  {
   "cell_type": "code",
   "execution_count": 70,
   "id": "e349e82b-d769-495e-b337-d3df961fc2f1",
   "metadata": {},
   "outputs": [],
   "source": [
    "count=0"
   ]
  },
  {
   "cell_type": "code",
   "execution_count": 71,
   "id": "cb268806-defa-428c-aee0-6830b4f8e475",
   "metadata": {},
   "outputs": [],
   "source": [
    "for i in s8:\n",
    "    count+=1"
   ]
  },
  {
   "cell_type": "code",
   "execution_count": 72,
   "id": "4499d0da-5e27-4b39-bc87-c46378c53573",
   "metadata": {},
   "outputs": [
    {
     "data": {
      "text/plain": [
       "21"
      ]
     },
     "execution_count": 72,
     "metadata": {},
     "output_type": "execute_result"
    }
   ],
   "source": [
    "count"
   ]
  },
  {
   "cell_type": "code",
   "execution_count": null,
   "id": "e145e4e9-d197-4edb-a3d8-547a589b60b6",
   "metadata": {},
   "outputs": [],
   "source": []
  },
  {
   "cell_type": "code",
   "execution_count": 73,
   "id": "6e9f1eba-1f26-496c-bb78-b30e084e80d8",
   "metadata": {},
   "outputs": [],
   "source": [
    "#9. Check if a string contains a specific word. "
   ]
  },
  {
   "cell_type": "code",
   "execution_count": 75,
   "id": "2f18cc2c-8070-487c-b2ed-ffbed70f6233",
   "metadata": {},
   "outputs": [],
   "source": [
    "s9=\"I love python classes\""
   ]
  },
  {
   "cell_type": "code",
   "execution_count": 89,
   "id": "fda4748c-0509-4cf4-aab5-886e3fbdf5c6",
   "metadata": {},
   "outputs": [
    {
     "data": {
      "text/plain": [
       "True"
      ]
     },
     "execution_count": 89,
     "metadata": {},
     "output_type": "execute_result"
    }
   ],
   "source": [
    "#by using in operator we can check it\n",
    "\"python\" in s9"
   ]
  },
  {
   "cell_type": "code",
   "execution_count": null,
   "id": "05a7b651-341a-4ade-aa62-21c9a4be2125",
   "metadata": {},
   "outputs": [],
   "source": []
  },
  {
   "cell_type": "code",
   "execution_count": null,
   "id": "6174a691-8dfc-43fc-af0f-2c36e25bf2d1",
   "metadata": {},
   "outputs": [],
   "source": [
    "#10. Replace a word in a string with another word. "
   ]
  },
  {
   "cell_type": "code",
   "execution_count": 92,
   "id": "58e4a05a-e075-4def-b4a5-c66ae96a0208",
   "metadata": {},
   "outputs": [],
   "source": [
    "s10 = \"Pwskills\""
   ]
  },
  {
   "cell_type": "code",
   "execution_count": 100,
   "id": "800b4178-0fb7-4b68-bcb5-bcb460de6981",
   "metadata": {},
   "outputs": [],
   "source": [
    "s11=s10.replace(\"skills\",\"labs\")"
   ]
  },
  {
   "cell_type": "code",
   "execution_count": 101,
   "id": "410a7707-9f25-4728-8a87-cbfbb09ddcda",
   "metadata": {},
   "outputs": [
    {
     "data": {
      "text/plain": [
       "'Pwlabs'"
      ]
     },
     "execution_count": 101,
     "metadata": {},
     "output_type": "execute_result"
    }
   ],
   "source": [
    "s11"
   ]
  },
  {
   "cell_type": "code",
   "execution_count": null,
   "id": "658eb97a-5557-4f27-8d3f-fbaaf7e7c09b",
   "metadata": {},
   "outputs": [],
   "source": []
  },
  {
   "cell_type": "code",
   "execution_count": null,
   "id": "88f60087-9da9-4471-b99f-b40eecdfc867",
   "metadata": {},
   "outputs": [],
   "source": [
    "#11. Count the occurrences of a word in a string. "
   ]
  },
  {
   "cell_type": "code",
   "execution_count": 103,
   "id": "90949754-b93e-45e2-a5dc-6715cb7b9070",
   "metadata": {},
   "outputs": [],
   "source": [
    "s12= \"Mysore is cleanest city in india and also in karnataka\""
   ]
  },
  {
   "cell_type": "code",
   "execution_count": 105,
   "id": "5ed0eacc-f918-498f-82b8-6fe3a8a5e9f9",
   "metadata": {},
   "outputs": [
    {
     "data": {
      "text/plain": [
       "2"
      ]
     },
     "execution_count": 105,
     "metadata": {},
     "output_type": "execute_result"
    }
   ],
   "source": [
    "s12.count(\" in \")"
   ]
  },
  {
   "cell_type": "code",
   "execution_count": null,
   "id": "d295191b-80b8-4e15-bcbc-914059504bfd",
   "metadata": {},
   "outputs": [],
   "source": []
  },
  {
   "cell_type": "code",
   "execution_count": null,
   "id": "0531d8c1-01e6-44e6-97b8-f7329a2ec0af",
   "metadata": {},
   "outputs": [],
   "source": [
    "#12. Find the first occurrence of a word in a string. "
   ]
  },
  {
   "cell_type": "code",
   "execution_count": 112,
   "id": "6166d631-d84e-4643-9f94-c6357a4863fe",
   "metadata": {},
   "outputs": [],
   "source": [
    "s12= \"Mysore is cleanest city in india and also in karnataka\""
   ]
  },
  {
   "cell_type": "code",
   "execution_count": 113,
   "id": "b6786f25-3c4b-4810-9a52-e3c5b06fa2e7",
   "metadata": {},
   "outputs": [
    {
     "data": {
      "text/plain": [
       "23"
      ]
     },
     "execution_count": 113,
     "metadata": {},
     "output_type": "execute_result"
    }
   ],
   "source": [
    "s12.find(\" in \")"
   ]
  },
  {
   "cell_type": "code",
   "execution_count": null,
   "id": "eb300af1-05f1-4688-a89c-5e2973f66420",
   "metadata": {},
   "outputs": [],
   "source": []
  },
  {
   "cell_type": "code",
   "execution_count": null,
   "id": "c22a594a-9341-4cc5-9fa1-b9a3d806c113",
   "metadata": {},
   "outputs": [],
   "source": [
    "#13. Find the last occurrence of a word in a string."
   ]
  },
  {
   "cell_type": "code",
   "execution_count": 114,
   "id": "39862fc6-c915-4141-b6b9-1b7a9238f2b5",
   "metadata": {},
   "outputs": [],
   "source": [
    "s12= \"Mysore is cleanest city in india and also in karnataka\""
   ]
  },
  {
   "cell_type": "code",
   "execution_count": 115,
   "id": "fc2ae9a5-5366-4dad-8324-d36e2c50db8a",
   "metadata": {},
   "outputs": [
    {
     "data": {
      "text/plain": [
       "41"
      ]
     },
     "execution_count": 115,
     "metadata": {},
     "output_type": "execute_result"
    }
   ],
   "source": [
    "s12.rfind(\" in \")"
   ]
  },
  {
   "cell_type": "code",
   "execution_count": null,
   "id": "1e455327-de8a-436f-9a24-0343901ce342",
   "metadata": {},
   "outputs": [],
   "source": []
  },
  {
   "cell_type": "code",
   "execution_count": null,
   "id": "a4992999-19cc-4259-acd3-6c663d135e1c",
   "metadata": {},
   "outputs": [],
   "source": [
    "#14. Split a string into a list of words. "
   ]
  },
  {
   "cell_type": "code",
   "execution_count": 123,
   "id": "669ccba3-cf98-463c-81a5-203b6d8c63ca",
   "metadata": {},
   "outputs": [],
   "source": [
    "s14 = \"Mysore is cleanest city in india and also in karnataka\""
   ]
  },
  {
   "cell_type": "code",
   "execution_count": 124,
   "id": "c1d342ef-e9bc-4402-92a1-9d8ff30aea84",
   "metadata": {},
   "outputs": [
    {
     "data": {
      "text/plain": [
       "['Mysore',\n",
       " 'is',\n",
       " 'cleanest',\n",
       " 'city',\n",
       " 'in',\n",
       " 'india',\n",
       " 'and',\n",
       " 'also',\n",
       " 'in',\n",
       " 'karnataka']"
      ]
     },
     "execution_count": 124,
     "metadata": {},
     "output_type": "execute_result"
    }
   ],
   "source": [
    "str.split(s14)"
   ]
  },
  {
   "cell_type": "code",
   "execution_count": null,
   "id": "6c5ab0fa-65f1-48c6-8e8c-e027813e0ccf",
   "metadata": {},
   "outputs": [],
   "source": []
  },
  {
   "cell_type": "code",
   "execution_count": null,
   "id": "e4c745a1-31df-4fd2-83e7-3006a8ba9340",
   "metadata": {},
   "outputs": [],
   "source": [
    "#15. Join a list of words into a string. "
   ]
  },
  {
   "cell_type": "code",
   "execution_count": 139,
   "id": "62777691-19fb-4018-9871-a0ddee787b61",
   "metadata": {},
   "outputs": [],
   "source": [
    "s15=['Mysore',\n",
    "    'is',\n",
    "    'cleanest',\n",
    "    'city',\n",
    "    'in',\n",
    "    'india',\n",
    "    'and',\n",
    "    'also',\n",
    "    'in',\n",
    "    'karnataka']"
   ]
  },
  {
   "cell_type": "code",
   "execution_count": 146,
   "id": "26ef1a69-6f15-4d13-b54b-be05e82cae21",
   "metadata": {},
   "outputs": [
    {
     "data": {
      "text/plain": [
       "['Mysore',\n",
       " 'is',\n",
       " 'cleanest',\n",
       " 'city',\n",
       " 'in',\n",
       " 'india',\n",
       " 'and',\n",
       " 'also',\n",
       " 'in',\n",
       " 'karnataka']"
      ]
     },
     "execution_count": 146,
     "metadata": {},
     "output_type": "execute_result"
    }
   ],
   "source": [
    "s15"
   ]
  },
  {
   "cell_type": "code",
   "execution_count": 150,
   "id": "97de98b6-8953-4dca-b497-d11de49a33b8",
   "metadata": {},
   "outputs": [
    {
     "data": {
      "text/plain": [
       "'Mysore is cleanest city in india and also in karnataka'"
      ]
     },
     "execution_count": 150,
     "metadata": {},
     "output_type": "execute_result"
    }
   ],
   "source": [
    "\" \".join(s15)"
   ]
  },
  {
   "cell_type": "code",
   "execution_count": null,
   "id": "d9a9b080-e078-4bfd-ad4c-ac05da9d65aa",
   "metadata": {},
   "outputs": [],
   "source": []
  },
  {
   "cell_type": "code",
   "execution_count": null,
   "id": "898d46ce-c977-4b50-bee1-75f1d03cb949",
   "metadata": {},
   "outputs": [],
   "source": [
    "#16. Convert a string where words are separated by spaces to one where words are separated by underscores. "
   ]
  },
  {
   "cell_type": "code",
   "execution_count": 1,
   "id": "2b88e94c-04f4-4d4e-8195-405446e8b1b4",
   "metadata": {},
   "outputs": [],
   "source": [
    "s16 = \"My name is Charan Raj\""
   ]
  },
  {
   "cell_type": "code",
   "execution_count": 2,
   "id": "6f3cd4c8-e383-4c81-8171-1db8ee224f05",
   "metadata": {},
   "outputs": [
    {
     "data": {
      "text/plain": [
       "'My_name_is_Charan_Raj'"
      ]
     },
     "execution_count": 2,
     "metadata": {},
     "output_type": "execute_result"
    }
   ],
   "source": [
    "s16.replace(\" \",\"_\")"
   ]
  },
  {
   "cell_type": "code",
   "execution_count": null,
   "id": "f3931aa7-05b3-4f62-aaa8-4fe598fd16b2",
   "metadata": {},
   "outputs": [],
   "source": []
  },
  {
   "cell_type": "code",
   "execution_count": null,
   "id": "49922d70-c911-4f6a-83f6-b2984cc17d3c",
   "metadata": {},
   "outputs": [],
   "source": [
    "#17. Check if a string starts with a specific word or phrase. "
   ]
  },
  {
   "cell_type": "code",
   "execution_count": 3,
   "id": "17dacc8b-d76b-45e5-b6ea-c2c0cf677c66",
   "metadata": {},
   "outputs": [],
   "source": [
    "s17 = \"My name is Charan Raj\""
   ]
  },
  {
   "cell_type": "code",
   "execution_count": 4,
   "id": "0026d73e-286e-49c1-b690-35926b5d37e5",
   "metadata": {},
   "outputs": [
    {
     "data": {
      "text/plain": [
       "True"
      ]
     },
     "execution_count": 4,
     "metadata": {},
     "output_type": "execute_result"
    }
   ],
   "source": [
    "s17.startswith(\"My\")"
   ]
  },
  {
   "cell_type": "code",
   "execution_count": null,
   "id": "7a0f592a-4365-4e5e-a10f-02f7d63c5feb",
   "metadata": {},
   "outputs": [],
   "source": []
  },
  {
   "cell_type": "code",
   "execution_count": null,
   "id": "c4605e5f-e769-44f6-b223-7d06d545405b",
   "metadata": {},
   "outputs": [],
   "source": [
    "#18. Check if a string ends with a specific word or phrase."
   ]
  },
  {
   "cell_type": "code",
   "execution_count": 5,
   "id": "55efdc0f-a472-4481-9c6b-a232399c2bb5",
   "metadata": {},
   "outputs": [],
   "source": [
    "s18 = \"My name is Charan Raj\""
   ]
  },
  {
   "cell_type": "code",
   "execution_count": 10,
   "id": "0da9048d-f579-4837-82c0-c0da56d7bb00",
   "metadata": {},
   "outputs": [
    {
     "data": {
      "text/plain": [
       "True"
      ]
     },
     "execution_count": 10,
     "metadata": {},
     "output_type": "execute_result"
    }
   ],
   "source": [
    "s18.endswith(\"Raj\")"
   ]
  },
  {
   "cell_type": "code",
   "execution_count": null,
   "id": "556972d3-04ad-4cfa-98d5-e57806445e9c",
   "metadata": {},
   "outputs": [],
   "source": []
  },
  {
   "cell_type": "code",
   "execution_count": null,
   "id": "6a615e53-05e6-45a2-8e8e-c9a65b1793c5",
   "metadata": {},
   "outputs": [],
   "source": [
    "#19. Convert a string to title case (e.g., \"hello world\" to \"Hello World\")."
   ]
  },
  {
   "cell_type": "code",
   "execution_count": 11,
   "id": "5698fc7c-a4b5-453b-ae49-7eb350a9da95",
   "metadata": {},
   "outputs": [],
   "source": [
    "s19 = \"pwskills python class\""
   ]
  },
  {
   "cell_type": "code",
   "execution_count": 12,
   "id": "452c8684-305f-4a67-99d2-1f9ab3d0346b",
   "metadata": {},
   "outputs": [
    {
     "data": {
      "text/plain": [
       "'Pwskills Python Class'"
      ]
     },
     "execution_count": 12,
     "metadata": {},
     "output_type": "execute_result"
    }
   ],
   "source": [
    "s19.title()"
   ]
  },
  {
   "cell_type": "code",
   "execution_count": null,
   "id": "3de73540-b70c-4731-86c0-a683d61aff4e",
   "metadata": {},
   "outputs": [],
   "source": []
  },
  {
   "cell_type": "code",
   "execution_count": null,
   "id": "5737cdc8-402c-49e9-afa5-03b9a18a0b05",
   "metadata": {},
   "outputs": [],
   "source": [
    "#20. Find the longest word in a string. "
   ]
  },
  {
   "cell_type": "code",
   "execution_count": 13,
   "id": "531cfb6b-fb78-44e9-bc37-9593cc0b9f29",
   "metadata": {},
   "outputs": [],
   "source": [
    "s20 = \"python is a programming lang\""
   ]
  },
  {
   "cell_type": "code",
   "execution_count": 20,
   "id": "3084b56e-e017-47d0-9ad5-237a476a00c4",
   "metadata": {},
   "outputs": [],
   "source": [
    "s21=s20.split()"
   ]
  },
  {
   "cell_type": "code",
   "execution_count": 23,
   "id": "2b0f925e-84fe-410b-9a22-b654f195ed9f",
   "metadata": {},
   "outputs": [
    {
     "data": {
      "text/plain": [
       "'programming'"
      ]
     },
     "execution_count": 23,
     "metadata": {},
     "output_type": "execute_result"
    }
   ],
   "source": [
    "max(s21,key=len)"
   ]
  },
  {
   "cell_type": "code",
   "execution_count": null,
   "id": "c9d25012-7487-403e-baa9-4d700737a79b",
   "metadata": {},
   "outputs": [],
   "source": []
  },
  {
   "cell_type": "code",
   "execution_count": null,
   "id": "158ab2c4-c44a-4407-a312-3423b0034b76",
   "metadata": {},
   "outputs": [],
   "source": [
    "#21. Find the shortest word in a string. "
   ]
  },
  {
   "cell_type": "code",
   "execution_count": 24,
   "id": "35c585d2-26b9-429d-9945-b1b6160d51c6",
   "metadata": {},
   "outputs": [],
   "source": [
    "s22 = \"python is a programming lang\""
   ]
  },
  {
   "cell_type": "code",
   "execution_count": 25,
   "id": "5645a7a8-f79b-4fb6-ae70-5c7cf7275013",
   "metadata": {},
   "outputs": [],
   "source": [
    "s23=s22.split()"
   ]
  },
  {
   "cell_type": "code",
   "execution_count": 26,
   "id": "40711e0a-3c06-4a40-9e5b-49ecd7675ba0",
   "metadata": {},
   "outputs": [
    {
     "data": {
      "text/plain": [
       "'a'"
      ]
     },
     "execution_count": 26,
     "metadata": {},
     "output_type": "execute_result"
    }
   ],
   "source": [
    "min(s23,key=len)"
   ]
  },
  {
   "cell_type": "code",
   "execution_count": null,
   "id": "d865d1d9-2db1-4224-91f7-9aa0923b4d77",
   "metadata": {},
   "outputs": [],
   "source": []
  },
  {
   "cell_type": "code",
   "execution_count": null,
   "id": "ed4ed0fa-f632-4daf-a6cb-8b056cb36195",
   "metadata": {},
   "outputs": [],
   "source": [
    "#22. Reverse the order of words in a string. "
   ]
  },
  {
   "cell_type": "code",
   "execution_count": 27,
   "id": "050735ec-2480-4a96-b12e-8cc3628c83a1",
   "metadata": {},
   "outputs": [],
   "source": [
    "s24 = \"python is a programming lang\""
   ]
  },
  {
   "cell_type": "code",
   "execution_count": 29,
   "id": "49b4d81c-201d-4a1e-9fa8-781a1989170a",
   "metadata": {},
   "outputs": [],
   "source": [
    "s25=s24.split()"
   ]
  },
  {
   "cell_type": "code",
   "execution_count": 30,
   "id": "0df9681a-b501-4c26-ab96-4d78212c37f9",
   "metadata": {},
   "outputs": [
    {
     "data": {
      "text/plain": [
       "['python', 'is', 'a', 'programming', 'lang']"
      ]
     },
     "execution_count": 30,
     "metadata": {},
     "output_type": "execute_result"
    }
   ],
   "source": [
    "s25"
   ]
  },
  {
   "cell_type": "code",
   "execution_count": 32,
   "id": "ea8d5d19-9007-496b-b927-90f546a9808f",
   "metadata": {},
   "outputs": [
    {
     "data": {
      "text/plain": [
       "['lang', 'programming', 'a', 'is', 'python']"
      ]
     },
     "execution_count": 32,
     "metadata": {},
     "output_type": "execute_result"
    }
   ],
   "source": [
    "list(reversed(s25))"
   ]
  },
  {
   "cell_type": "code",
   "execution_count": null,
   "id": "817050b9-2fab-4c57-bd9c-79823fb67261",
   "metadata": {},
   "outputs": [],
   "source": []
  },
  {
   "cell_type": "code",
   "execution_count": null,
   "id": "15ae4497-6d3e-4027-8ae5-f16ce0812349",
   "metadata": {},
   "outputs": [],
   "source": [
    "#23. Check if a string is alphanumeric. "
   ]
  },
  {
   "cell_type": "code",
   "execution_count": 38,
   "id": "e74b70fc-176f-4164-a5be-0ff925a02d11",
   "metadata": {},
   "outputs": [],
   "source": [
    "s26 = \"Charan123\""
   ]
  },
  {
   "cell_type": "code",
   "execution_count": 39,
   "id": "4371445a-8905-48ea-9e76-5271610cc574",
   "metadata": {},
   "outputs": [
    {
     "data": {
      "text/plain": [
       "True"
      ]
     },
     "execution_count": 39,
     "metadata": {},
     "output_type": "execute_result"
    }
   ],
   "source": [
    "s26.isalnum()"
   ]
  },
  {
   "cell_type": "code",
   "execution_count": null,
   "id": "7f05bd03-6f7f-44cc-8740-900c47fefa17",
   "metadata": {},
   "outputs": [],
   "source": []
  },
  {
   "cell_type": "code",
   "execution_count": null,
   "id": "508a3329-7418-4fd4-8165-7a11661f5fa6",
   "metadata": {},
   "outputs": [],
   "source": [
    "#24. Extract all digits from a string. "
   ]
  },
  {
   "cell_type": "code",
   "execution_count": 118,
   "id": "e309a6d1-e58a-4e8e-9d3b-00b5b9107975",
   "metadata": {},
   "outputs": [],
   "source": [
    "import re\n",
    "s26 = \"Charan123raj26\""
   ]
  },
  {
   "cell_type": "code",
   "execution_count": 119,
   "id": "0fa7227b-fa05-4ced-a77f-08b3be19e7a8",
   "metadata": {},
   "outputs": [
    {
     "name": "stdout",
     "output_type": "stream",
     "text": [
      "['123', '26']\n"
     ]
    }
   ],
   "source": [
    "num=re.findall('\\d+' ,s26)\n",
    "print(num)"
   ]
  },
  {
   "cell_type": "code",
   "execution_count": null,
   "id": "a6480b73-a628-4d33-9995-9a620622236c",
   "metadata": {},
   "outputs": [],
   "source": []
  },
  {
   "cell_type": "code",
   "execution_count": null,
   "id": "027edb4d-2bb4-4a2a-a709-e51dd8fa52c1",
   "metadata": {},
   "outputs": [],
   "source": [
    "#25. Extract all alphabets from a string. "
   ]
  },
  {
   "cell_type": "code",
   "execution_count": 120,
   "id": "bf2e59ff-d63d-479e-bf6a-4fa1df7823ef",
   "metadata": {},
   "outputs": [],
   "source": [
    "import re\n",
    "s26 = \"Charan123Raj\""
   ]
  },
  {
   "cell_type": "code",
   "execution_count": 123,
   "id": "ad6ce06c-2935-4530-87ac-bf1e70cdb459",
   "metadata": {},
   "outputs": [
    {
     "name": "stdout",
     "output_type": "stream",
     "text": [
      "Charan   Raj\n"
     ]
    }
   ],
   "source": [
    "alp=re.sub(r'[^a-zA-Z]' , ' ' , s26)\n",
    "print(alp)"
   ]
  },
  {
   "cell_type": "code",
   "execution_count": null,
   "id": "23d48f7c-7c72-41be-a733-9255e6790fcb",
   "metadata": {},
   "outputs": [],
   "source": []
  },
  {
   "cell_type": "code",
   "execution_count": null,
   "id": "a5d157eb-f4d3-481c-a5ae-b66718e4c02b",
   "metadata": {},
   "outputs": [],
   "source": [
    "#26. Count the number of uppercase letters in a string. "
   ]
  },
  {
   "cell_type": "code",
   "execution_count": 62,
   "id": "908410b6-90f4-4a63-926f-a577e91ba6aa",
   "metadata": {},
   "outputs": [],
   "source": [
    "s27 = \"CharanRajMC\""
   ]
  },
  {
   "cell_type": "code",
   "execution_count": 128,
   "id": "bab0266c-4f6c-4484-a54b-77f455ee62c1",
   "metadata": {},
   "outputs": [
    {
     "name": "stdout",
     "output_type": "stream",
     "text": [
      "CRMC\n"
     ]
    }
   ],
   "source": [
    "alp=re.sub(r'[a-z]' , '' , s27)\n",
    "print(alp)"
   ]
  },
  {
   "cell_type": "code",
   "execution_count": 129,
   "id": "33b28043-389a-40e4-9263-2a2e2c187004",
   "metadata": {},
   "outputs": [
    {
     "data": {
      "text/plain": [
       "4"
      ]
     },
     "execution_count": 129,
     "metadata": {},
     "output_type": "execute_result"
    }
   ],
   "source": [
    "len(alp)"
   ]
  },
  {
   "cell_type": "code",
   "execution_count": null,
   "id": "a8440f0e-7f43-4a71-be27-a199c78f7510",
   "metadata": {},
   "outputs": [],
   "source": []
  },
  {
   "cell_type": "code",
   "execution_count": null,
   "id": "143752bc-5d6d-4ee4-9684-3102c3afb2cb",
   "metadata": {},
   "outputs": [],
   "source": [
    "#27. Count the number of lowercase letters in a string."
   ]
  },
  {
   "cell_type": "code",
   "execution_count": 130,
   "id": "4beafc8f-ab79-47a2-bf7b-3cc362498a78",
   "metadata": {},
   "outputs": [],
   "source": [
    "s27 = \"CharanRajMC\""
   ]
  },
  {
   "cell_type": "code",
   "execution_count": 141,
   "id": "bfde14fd-4b7e-43ae-a232-a2350f8739a0",
   "metadata": {},
   "outputs": [
    {
     "name": "stdout",
     "output_type": "stream",
     "text": [
      "haranaj\n"
     ]
    }
   ],
   "source": [
    "alp=re.sub(r'[A-Z]' , '' , s27)\n",
    "print(alp)"
   ]
  },
  {
   "cell_type": "code",
   "execution_count": 142,
   "id": "a4f4f0e8-3ac5-4c7c-acfe-c718c7dec785",
   "metadata": {},
   "outputs": [
    {
     "data": {
      "text/plain": [
       "7"
      ]
     },
     "execution_count": 142,
     "metadata": {},
     "output_type": "execute_result"
    }
   ],
   "source": [
    "len(alp)"
   ]
  },
  {
   "cell_type": "code",
   "execution_count": null,
   "id": "ed0853d4-0a39-4459-9094-c27d83161aa2",
   "metadata": {},
   "outputs": [],
   "source": []
  },
  {
   "cell_type": "code",
   "execution_count": null,
   "id": "63a935e0-297a-409d-8f38-23870dfe8253",
   "metadata": {},
   "outputs": [],
   "source": [
    "#28. Swap the case of each character in a string. "
   ]
  },
  {
   "cell_type": "code",
   "execution_count": 133,
   "id": "dbca1696-7a2e-4533-ad3b-9b40798eef9f",
   "metadata": {},
   "outputs": [],
   "source": [
    "s28 = \"Charan Raj M C\""
   ]
  },
  {
   "cell_type": "code",
   "execution_count": 134,
   "id": "d702a567-d5e7-4de9-98da-0fd22f64c17d",
   "metadata": {},
   "outputs": [
    {
     "data": {
      "text/plain": [
       "'cHARAN rAJ m c'"
      ]
     },
     "execution_count": 134,
     "metadata": {},
     "output_type": "execute_result"
    }
   ],
   "source": [
    "s28.swapcase()"
   ]
  },
  {
   "cell_type": "code",
   "execution_count": null,
   "id": "04fe3172-8cc9-43b0-a3a8-907b1807d15b",
   "metadata": {},
   "outputs": [],
   "source": []
  },
  {
   "cell_type": "code",
   "execution_count": null,
   "id": "bfc9dc5d-c294-4e78-9939-aa03ac903d03",
   "metadata": {},
   "outputs": [],
   "source": [
    "#29. Remove a specific word from a string. "
   ]
  },
  {
   "cell_type": "code",
   "execution_count": 260,
   "id": "790945ea-40f5-4a71-ad44-c61971466107",
   "metadata": {},
   "outputs": [],
   "source": [
    "s29 = \"Charan Raj M C\""
   ]
  },
  {
   "cell_type": "code",
   "execution_count": 261,
   "id": "2d340f29-e0cb-4ebc-bfb4-dd7c902636ec",
   "metadata": {},
   "outputs": [],
   "source": [
    "s30=s29.replace(\"Raj\",\"\")"
   ]
  },
  {
   "cell_type": "code",
   "execution_count": 262,
   "id": "f40abad5-02f0-469d-a467-94620a7495ed",
   "metadata": {},
   "outputs": [
    {
     "data": {
      "text/plain": [
       "'Charan  M C'"
      ]
     },
     "execution_count": 262,
     "metadata": {},
     "output_type": "execute_result"
    }
   ],
   "source": [
    "s30"
   ]
  },
  {
   "cell_type": "code",
   "execution_count": null,
   "id": "0d77867d-856d-4487-861b-7da3dd26ee3f",
   "metadata": {},
   "outputs": [],
   "source": []
  },
  {
   "cell_type": "code",
   "execution_count": null,
   "id": "efc27754-d7fe-4d50-8754-9e877572c6d2",
   "metadata": {},
   "outputs": [],
   "source": [
    "#30. Check if a string is a valid email address."
   ]
  },
  {
   "cell_type": "code",
   "execution_count": 2,
   "id": "8f922601-9d63-4e6d-9e46-79a32967f4e0",
   "metadata": {},
   "outputs": [
    {
     "name": "stdin",
     "output_type": "stream",
     "text": [
      "Enter an email address:  Charanraj@gmail.com\n"
     ]
    },
    {
     "name": "stdout",
     "output_type": "stream",
     "text": [
      "The email address is valid.\n"
     ]
    }
   ],
   "source": [
    "import re\n",
    "def is_valid_email(email):\n",
    "    pattern = r\"^[a-zA-Z0-9._%+-]+@[a-zA-Z0-9.-]+\\.[a-zA-Z]{2,}$\"\n",
    "    return bool(re.match(pattern, email))\n",
    "\n",
    "\n",
    "email = input(\"Enter an email address: \")\n",
    "if is_valid_email(email):\n",
    "    print(\"The email address is valid.\")\n",
    "else:\n",
    "    print(\"The email address is invalid.\")"
   ]
  },
  {
   "cell_type": "code",
   "execution_count": null,
   "id": "e9ad0dc8-b992-416b-a156-bbfc97fc87e6",
   "metadata": {},
   "outputs": [],
   "source": []
  },
  {
   "cell_type": "code",
   "execution_count": null,
   "id": "b49088c4-e1f3-4516-853e-8b1ec60cad73",
   "metadata": {},
   "outputs": [],
   "source": [
    "#31. Extract the username from an email address string."
   ]
  },
  {
   "cell_type": "code",
   "execution_count": null,
   "id": "9d0a85be-2295-458e-911f-0acd15e162e2",
   "metadata": {},
   "outputs": [],
   "source": [
    "def extract_username(email):\n",
    "    return email.split('@')[0]\n",
    "\n",
    "email = \"example@gmail.com\"\n",
    "username = extract_username(email)\n",
    "print(username)"
   ]
  },
  {
   "cell_type": "code",
   "execution_count": null,
   "id": "435c5930-ed17-4473-a023-d8dd65b8d6c5",
   "metadata": {},
   "outputs": [],
   "source": []
  },
  {
   "cell_type": "code",
   "execution_count": null,
   "id": "b9ea9fc1-8499-4358-a90d-3fcce31f667b",
   "metadata": {},
   "outputs": [],
   "source": [
    "#32. Extract the domain name from an email address string."
   ]
  },
  {
   "cell_type": "code",
   "execution_count": null,
   "id": "2ccc2d04-40d2-4a04-943b-6f0a6e069344",
   "metadata": {},
   "outputs": [],
   "source": [
    "def extract_domain(email):\n",
    "    return email.split('@')[0]\n",
    "\n",
    "email = \"example@gmail.com\"\n",
    "domain = extract_username(email)\n",
    "print(domain)"
   ]
  },
  {
   "cell_type": "code",
   "execution_count": null,
   "id": "95b887c1-1153-487d-af2d-a67c4ea500b1",
   "metadata": {},
   "outputs": [],
   "source": []
  },
  {
   "cell_type": "code",
   "execution_count": null,
   "id": "7586e28a-1718-4990-9f77-fa65aef04f21",
   "metadata": {},
   "outputs": [],
   "source": [
    "#33. Replace multiple spaces in a string with a single space. "
   ]
  },
  {
   "cell_type": "code",
   "execution_count": 1,
   "id": "31868aea-d97f-472a-b156-06cc2846d265",
   "metadata": {},
   "outputs": [
    {
     "name": "stdout",
     "output_type": "stream",
     "text": [
      "This is an example with multiple spaces.\n"
     ]
    }
   ],
   "source": [
    "import re\n",
    "\n",
    "def replace_multiple_spaces(s):\n",
    "    return re.sub(' +', ' ', s)\n",
    "\n",
    "\n",
    "input_str = \"This is an  example   with multiple    spaces.\"\n",
    "output_str = replace_multiple_spaces(input_str)\n",
    "print(output_str)"
   ]
  },
  {
   "cell_type": "code",
   "execution_count": null,
   "id": "4c983205-be15-45d0-ad43-17be243346ad",
   "metadata": {},
   "outputs": [],
   "source": []
  },
  {
   "cell_type": "code",
   "execution_count": null,
   "id": "c048a990-a8c1-453d-9879-7c445fd308e8",
   "metadata": {},
   "outputs": [],
   "source": [
    "#34. Check if a string is a valid URL. "
   ]
  },
  {
   "cell_type": "code",
   "execution_count": 2,
   "id": "77cd1fdc-641b-4d3a-bc31-455edac24b57",
   "metadata": {},
   "outputs": [
    {
     "name": "stdout",
     "output_type": "stream",
     "text": [
      "True\n"
     ]
    }
   ],
   "source": [
    "import re\n",
    "\n",
    "def is_valid_url(url):\n",
    "    pattern = re.compile(\n",
    "        r'http[s]?://(?:[a-zA-Z]|[0-9]|[$-_@.&+]|[!*\\\\(\\\\),]|(?:%[0-9a-fA-F][0-9a-fA-F]))+'\n",
    "    )\n",
    "    return bool(pattern.match(url))\n",
    "\n",
    "\n",
    "url = \"https://www.example.com\"\n",
    "print(is_valid_url(url))  # True\n"
   ]
  },
  {
   "cell_type": "code",
   "execution_count": null,
   "id": "01f3d19f-900d-46f8-9bc9-7c9007f3fc7c",
   "metadata": {},
   "outputs": [],
   "source": []
  },
  {
   "cell_type": "code",
   "execution_count": null,
   "id": "dea1997f-56d6-4b70-b06e-58766765f542",
   "metadata": {},
   "outputs": [],
   "source": [
    "#35. Extract the protocol (http or https) from a URL string. "
   ]
  },
  {
   "cell_type": "code",
   "execution_count": 3,
   "id": "1f16ed84-129f-4cb2-8536-25d5e1482ce6",
   "metadata": {},
   "outputs": [
    {
     "name": "stdout",
     "output_type": "stream",
     "text": [
      "https\n"
     ]
    }
   ],
   "source": [
    "from urllib.parse import urlparse\n",
    "\n",
    "def extract_protocol(url):\n",
    "    result = urlparse(url)\n",
    "    return result.scheme\n",
    "\n",
    "\n",
    "url = \"https://www.example.com\"\n",
    "print(extract_protocol(url))  # Outputs: https\n"
   ]
  },
  {
   "cell_type": "code",
   "execution_count": null,
   "id": "7070d7b3-fc68-4f63-9d10-362e6a0417f0",
   "metadata": {},
   "outputs": [],
   "source": []
  },
  {
   "cell_type": "code",
   "execution_count": null,
   "id": "ae73b6bd-1ada-4e49-b3fb-b50c4a6592aa",
   "metadata": {},
   "outputs": [],
   "source": [
    "#36. Find the frequency of each character in a string. "
   ]
  },
  {
   "cell_type": "code",
   "execution_count": 4,
   "id": "b98eab3d-e7b0-42bf-8dc5-dd93dc84d496",
   "metadata": {},
   "outputs": [
    {
     "name": "stdout",
     "output_type": "stream",
     "text": [
      "{'h': 1, 'e': 1, 'l': 3, 'o': 2, ' ': 1, 'w': 1, 'r': 1, 'd': 1}\n"
     ]
    }
   ],
   "source": [
    "def char_frequency(s):\n",
    "    freq = {}\n",
    "    for char in s:\n",
    "        if char in freq:\n",
    "            freq[char] += 1\n",
    "        else:\n",
    "            freq[char] = 1\n",
    "    return freq\n",
    "\n",
    "\n",
    "string = \"hello world\"\n",
    "print(char_frequency(string))\n"
   ]
  },
  {
   "cell_type": "code",
   "execution_count": null,
   "id": "c76b1362-5100-4bc2-a3f7-e082a01d7bc4",
   "metadata": {},
   "outputs": [],
   "source": []
  },
  {
   "cell_type": "code",
   "execution_count": null,
   "id": "864c423c-df19-4652-9417-13884570e16e",
   "metadata": {},
   "outputs": [],
   "source": [
    "#37. Remove all punctuation from a string. "
   ]
  },
  {
   "cell_type": "code",
   "execution_count": 5,
   "id": "4f87053b-72fa-4168-a39a-eb6786807070",
   "metadata": {},
   "outputs": [
    {
     "name": "stdout",
     "output_type": "stream",
     "text": [
      "Hello world Hows it going\n"
     ]
    }
   ],
   "source": [
    "import string\n",
    "\n",
    "def remove_punctuation(s):\n",
    "    translator = str.maketrans('', '', string.punctuation)\n",
    "    return s.translate(translator)\n",
    "\n",
    "# Test\n",
    "input_str = \"Hello, world! How's it going?\"\n",
    "print(remove_punctuation(input_str))  # Outputs: Hello world Hows it going\n"
   ]
  },
  {
   "cell_type": "code",
   "execution_count": null,
   "id": "c840e716-5738-4377-882d-527993a88bc8",
   "metadata": {},
   "outputs": [],
   "source": [
    "#38. Check if a string contains only digits. "
   ]
  },
  {
   "cell_type": "code",
   "execution_count": 6,
   "id": "25dc9e83-3ebb-40b9-968e-d653760f5d4c",
   "metadata": {},
   "outputs": [
    {
     "name": "stdout",
     "output_type": "stream",
     "text": [
      "True\n",
      "False\n"
     ]
    }
   ],
   "source": [
    "def contains_only_digits(s):\n",
    "    return s.isdigit()\n",
    "\n",
    "# Test\n",
    "input_str1 = \"12345\"\n",
    "input_str2 = \"1234a5\"\n",
    "\n",
    "print(contains_only_digits(input_str1))  # Outputs: True\n",
    "print(contains_only_digits(input_str2))  # Outputs: False\n"
   ]
  },
  {
   "cell_type": "code",
   "execution_count": null,
   "id": "c4307a2c-3c9a-49c8-8349-454f0c2a17a6",
   "metadata": {},
   "outputs": [],
   "source": [
    "#39. Check if a string contains only alphabets. "
   ]
  },
  {
   "cell_type": "code",
   "execution_count": 7,
   "id": "83742f8c-0547-4ca1-a35c-55995b9f3395",
   "metadata": {},
   "outputs": [
    {
     "name": "stdout",
     "output_type": "stream",
     "text": [
      "True\n",
      "False\n"
     ]
    }
   ],
   "source": [
    "def contains_only_alphabets(s):\n",
    "    return s.isalpha()\n",
    "\n",
    "# Test\n",
    "input_str1 = \"Hello\"\n",
    "input_str2 = \"Hello123\"\n",
    "\n",
    "print(contains_only_alphabets(input_str1))  # Outputs: True\n",
    "print(contains_only_alphabets(input_str2))  # Outputs: False\n"
   ]
  },
  {
   "cell_type": "code",
   "execution_count": null,
   "id": "3184106c-912e-4238-864a-4f97f9ad420b",
   "metadata": {},
   "outputs": [],
   "source": [
    "#40. Convert a string to a list of characters. "
   ]
  },
  {
   "cell_type": "code",
   "execution_count": 8,
   "id": "58b05e45-4b64-4c71-bb9f-62fbc43326f9",
   "metadata": {},
   "outputs": [
    {
     "name": "stdout",
     "output_type": "stream",
     "text": [
      "['h', 'e', 'l', 'l', 'o']\n"
     ]
    }
   ],
   "source": [
    "def string_to_char_list(s):\n",
    "    return list(s)\n",
    "\n",
    "# Test\n",
    "input_str = \"hello\"\n",
    "print(string_to_char_list(input_str))  # Outputs: ['h', 'e', 'l', 'l', 'o']\n"
   ]
  },
  {
   "cell_type": "code",
   "execution_count": null,
   "id": "72bca25d-d7c4-459f-a997-9cda7092fffc",
   "metadata": {},
   "outputs": [],
   "source": [
    "#41. Check if two strings are anagrams. "
   ]
  },
  {
   "cell_type": "code",
   "execution_count": 9,
   "id": "acde2b79-5d45-49b8-a81e-62896cfc4556",
   "metadata": {},
   "outputs": [
    {
     "name": "stdout",
     "output_type": "stream",
     "text": [
      "True\n"
     ]
    }
   ],
   "source": [
    "def are_anagrams(str1, str2):\n",
    "    # Remove non-alphanumeric characters and convert to lowercase\n",
    "    cleaned_str1 = ''.join(e for e in str1 if e.isalnum()).lower()\n",
    "    cleaned_str2 = ''.join(e for e in str2 if e.isalnum()).lower()\n",
    "    \n",
    "    # Compare sorted versions of the cleaned strings\n",
    "    return sorted(cleaned_str1) == sorted(cleaned_str2)\n",
    "\n",
    "# Test\n",
    "s1 = \"listen\"\n",
    "s2 = \"silent\"\n",
    "\n",
    "print(are_anagrams(s1, s2))  # Outputs: True\n"
   ]
  },
  {
   "cell_type": "code",
   "execution_count": null,
   "id": "49d48f74-72ed-472e-811f-0db4add3b448",
   "metadata": {},
   "outputs": [],
   "source": [
    "#42. Encode a string using a Caesar cipher. "
   ]
  },
  {
   "cell_type": "code",
   "execution_count": 10,
   "id": "88522a21-fe6f-42ff-a52b-89ff350c02e6",
   "metadata": {},
   "outputs": [
    {
     "name": "stdout",
     "output_type": "stream",
     "text": [
      "Khoor, Zruog!\n"
     ]
    }
   ],
   "source": [
    "def caesar_cipher(s, shift):\n",
    "    result = []\n",
    "\n",
    "    for char in s:\n",
    "        # Encrypt uppercase characters\n",
    "        if char.isupper():\n",
    "            result.append(chr((ord(char) + shift - 65) % 26 + 65))\n",
    "        # Encrypt lowercase characters\n",
    "        elif char.islower():\n",
    "            result.append(chr((ord(char) + shift - 97) % 26 + 97))\n",
    "        # Leave other characters unchanged\n",
    "        else:\n",
    "            result.append(char)\n",
    "\n",
    "    return ''.join(result)\n",
    "\n",
    "# Test\n",
    "plaintext = \"Hello, World!\"\n",
    "shift_value = 3\n",
    "encoded = caesar_cipher(plaintext, shift_value)\n",
    "print(encoded)  # Outputs: \"Khoor, Zruog!\"\n"
   ]
  },
  {
   "cell_type": "code",
   "execution_count": null,
   "id": "a83c5e1b-a86a-45c2-8839-fe582adfacec",
   "metadata": {},
   "outputs": [],
   "source": [
    "#43. Decode a Caesar cipher encoded string. "
   ]
  },
  {
   "cell_type": "code",
   "execution_count": 11,
   "id": "f3cebda1-db35-47b9-90f6-e62c4d8c40ec",
   "metadata": {},
   "outputs": [
    {
     "name": "stdout",
     "output_type": "stream",
     "text": [
      "Hello, World!\n"
     ]
    }
   ],
   "source": [
    "def decode_caesar_cipher(s, shift):\n",
    "    return caesar_cipher(s, -shift)\n",
    "\n",
    "def caesar_cipher(s, shift):\n",
    "    result = []\n",
    "\n",
    "    for char in s:\n",
    "        # Encrypt uppercase characters\n",
    "        if char.isupper():\n",
    "            result.append(chr((ord(char) + shift - 65) % 26 + 65))\n",
    "        # Encrypt lowercase characters\n",
    "        elif char.islower():\n",
    "            result.append(chr((ord(char) + shift - 97) % 26 + 97))\n",
    "        # Leave other characters unchanged\n",
    "        else:\n",
    "            result.append(char)\n",
    "\n",
    "    return ''.join(result)\n",
    "\n",
    "# Test\n",
    "encoded_text = \"Khoor, Zruog!\"\n",
    "shift_value = 3\n",
    "decoded = decode_caesar_cipher(encoded_text, shift_value)\n",
    "print(decoded)  # Outputs: \"Hello, World!\"\n"
   ]
  },
  {
   "cell_type": "code",
   "execution_count": null,
   "id": "36d914b0-d0e6-4f87-a415-2cbeb552e194",
   "metadata": {},
   "outputs": [],
   "source": [
    "#44. Find the most frequent word in a string. "
   ]
  },
  {
   "cell_type": "code",
   "execution_count": 12,
   "id": "055f6d50-09e8-4327-a3aa-0223519088dd",
   "metadata": {},
   "outputs": [
    {
     "name": "stdout",
     "output_type": "stream",
     "text": [
      "['apple']\n"
     ]
    }
   ],
   "source": [
    "def most_frequent_word(s):\n",
    "    # Convert string to lowercase and split it into words\n",
    "    words = s.lower().split()\n",
    "    \n",
    "    # Create a dictionary to store word frequencies\n",
    "    word_freq = {}\n",
    "    for word in words:\n",
    "        if word in word_freq:\n",
    "            word_freq[word] += 1\n",
    "        else:\n",
    "            word_freq[word] = 1\n",
    "\n",
    "    # Find the word with the maximum frequency\n",
    "    max_freq = max(word_freq.values())\n",
    "    most_frequent_words = [word for word, freq in word_freq.items() if freq == max_freq]\n",
    "    \n",
    "    # Return the most frequent word (or words if there's a tie)\n",
    "    return most_frequent_words\n",
    "\n",
    "# Test\n",
    "text = \"apple banana apple orange banana fruit apple\"\n",
    "print(most_frequent_word(text))  # Outputs: ['apple']\n"
   ]
  },
  {
   "cell_type": "code",
   "execution_count": null,
   "id": "f91e37bd-0f60-47ab-b16c-a89f81f63ce8",
   "metadata": {},
   "outputs": [],
   "source": [
    "#45. Find all unique words in a string. "
   ]
  },
  {
   "cell_type": "code",
   "execution_count": 13,
   "id": "e83a0f89-8981-4d6e-8c35-eb9013f520f2",
   "metadata": {},
   "outputs": [
    {
     "name": "stdout",
     "output_type": "stream",
     "text": [
      "['apple', 'banana', 'orange', 'fruit']\n"
     ]
    }
   ],
   "source": [
    "def unique_words_ordered(s):\n",
    "    words = s.lower().split()\n",
    "    seen = set()\n",
    "    result = []\n",
    "\n",
    "    for word in words:\n",
    "        if word not in seen:\n",
    "            seen.add(word)\n",
    "            result.append(word)\n",
    "\n",
    "    return result\n",
    "\n",
    "# Test\n",
    "text = \"apple banana apple orange banana fruit apple\"\n",
    "print(unique_words_ordered(text))  # Outputs: ['apple', 'banana', 'orange', 'fruit']\n"
   ]
  },
  {
   "cell_type": "code",
   "execution_count": null,
   "id": "9f0573a2-4edc-4727-82d0-314c3b9759f6",
   "metadata": {},
   "outputs": [],
   "source": [
    "#46. Count the number of syllables in a string."
   ]
  },
  {
   "cell_type": "code",
   "execution_count": 14,
   "id": "2e2acd76-60c7-41ff-ae59-fa496dfa900c",
   "metadata": {},
   "outputs": [
    {
     "name": "stdout",
     "output_type": "stream",
     "text": [
      "4\n"
     ]
    }
   ],
   "source": [
    "import re\n",
    "\n",
    "def count_syllables(text):\n",
    "    # Convert text to lowercase\n",
    "    text = text.lower()\n",
    "\n",
    "    # Count vowel groupings\n",
    "    count = len(re.findall(r'[aeiouy]+', text))\n",
    "\n",
    "    # Subtract 1 for words ending in \"e\" or \"es\" as they often don't add a syllable\n",
    "    if text.endswith('e') or text.endswith('es'):\n",
    "        count -= 1\n",
    "\n",
    "    # Words like \"I\" or \"a\" are single syllables\n",
    "    if count == 0:\n",
    "        count = 1\n",
    "\n",
    "    return count\n",
    "\n",
    "# Test\n",
    "sentence = \"apple banana\"\n",
    "syllables = sum(count_syllables(word) for word in sentence.split())\n",
    "print(syllables)  # Outputs: 5\n"
   ]
  },
  {
   "cell_type": "code",
   "execution_count": null,
   "id": "48995b96-29ce-4fe3-82a0-37749f499486",
   "metadata": {},
   "outputs": [],
   "source": [
    "#47. Check if a string contains any special characters. "
   ]
  },
  {
   "cell_type": "code",
   "execution_count": 15,
   "id": "a4c14760-895e-4aee-885c-87f6cce5e83e",
   "metadata": {},
   "outputs": [
    {
     "name": "stdout",
     "output_type": "stream",
     "text": [
      "False\n",
      "True\n"
     ]
    }
   ],
   "source": [
    "import re\n",
    "\n",
    "def contains_special_characters(s):\n",
    "    # The pattern searches for any character that's not a letter, number, or underscore.\n",
    "    # If you want to exclude underscore as well, use the pattern [^a-zA-Z0-9]\n",
    "    pattern = re.compile('[\\W_]+')\n",
    "    \n",
    "    return bool(pattern.search(s))\n",
    "\n",
    "# Test\n",
    "input_str1 = \"HelloWorld\"\n",
    "input_str2 = \"Hello@World!\"\n",
    "\n",
    "print(contains_special_characters(input_str1))  # Outputs: False\n",
    "print(contains_special_characters(input_str2))  # Outputs: True\n"
   ]
  },
  {
   "cell_type": "code",
   "execution_count": null,
   "id": "5d77cd03-c1ea-4272-8c79-e5efe4c5d7ab",
   "metadata": {},
   "outputs": [],
   "source": [
    "#48. Remove the nth word from a string."
   ]
  },
  {
   "cell_type": "code",
   "execution_count": 16,
   "id": "416e5ac2-862b-424d-9051-e13db4a7bdd0",
   "metadata": {},
   "outputs": [
    {
     "name": "stdout",
     "output_type": "stream",
     "text": [
      "apple banana orange grape\n"
     ]
    }
   ],
   "source": [
    "def remove_nth_word(s, n):\n",
    "    words = s.split()\n",
    "    \n",
    "    # Check if n is within the range of words' indices\n",
    "    if 0 < n <= len(words):\n",
    "        del words[n-1]\n",
    "    \n",
    "    return ' '.join(words)\n",
    "\n",
    "# Test\n",
    "text = \"apple banana cherry orange grape\"\n",
    "n = 3\n",
    "print(remove_nth_word(text, n))  # Outputs: \"apple banana orange grape\"\n"
   ]
  },
  {
   "cell_type": "code",
   "execution_count": null,
   "id": "b2233efa-9036-4ca5-8663-809b17fd7d53",
   "metadata": {},
   "outputs": [],
   "source": [
    "#49. Insert a word at the nth position in a string. "
   ]
  },
  {
   "cell_type": "code",
   "execution_count": 17,
   "id": "b82c8c2c-0e92-428d-b214-564d4b659755",
   "metadata": {},
   "outputs": [
    {
     "name": "stdout",
     "output_type": "stream",
     "text": [
      "apple banana cherry orange grape\n"
     ]
    }
   ],
   "source": [
    "def insert_nth_word(s, word, n):\n",
    "    words = s.split()\n",
    "    \n",
    "    # Insert the word at the nth position, adjusting for 0-based index\n",
    "    words.insert(n-1, word)\n",
    "    \n",
    "    return ' '.join(words)\n",
    "\n",
    "# Test\n",
    "text = \"apple banana orange grape\"\n",
    "word_to_insert = \"cherry\"\n",
    "position = 3\n",
    "print(insert_nth_word(text, word_to_insert, position))  # Outputs: \"apple banana cherry orange grape\"\n"
   ]
  },
  {
   "cell_type": "code",
   "execution_count": null,
   "id": "d20774ba-81f4-4523-8cf6-3940a1d73812",
   "metadata": {},
   "outputs": [],
   "source": [
    "#50. Convert a CSV string to a list of lists. "
   ]
  },
  {
   "cell_type": "code",
   "execution_count": 18,
   "id": "dd702fe4-e09d-4faf-a030-6f92cd903896",
   "metadata": {},
   "outputs": [
    {
     "name": "stdout",
     "output_type": "stream",
     "text": [
      "[['apple', 'banana', 'cherry'], ['orange', 'grape', 'blueberry'], ['kiwi', 'strawberry', 'pineapple']]\n"
     ]
    }
   ],
   "source": [
    "def csv_to_list_of_lists(csv_string):\n",
    "    # Split by lines\n",
    "    lines = csv_string.strip().split('\\n')\n",
    "    \n",
    "    # Split each line by comma and create a list of lists\n",
    "    return [line.split(',') for line in lines]\n",
    "\n",
    "csv_string = \"\"\"apple,banana,cherry\n",
    "orange,grape,blueberry\n",
    "kiwi,strawberry,pineapple\"\"\"\n",
    "print(csv_to_list_of_lists(csv_string))\n"
   ]
  },
  {
   "cell_type": "code",
   "execution_count": null,
   "id": "e0ed8438-9f1f-4a6e-a872-7579f1bc1d79",
   "metadata": {},
   "outputs": [],
   "source": []
  },
  {
   "cell_type": "code",
   "execution_count": null,
   "id": "f1e85da0-cdf7-49cf-85a0-50da82668ec6",
   "metadata": {},
   "outputs": [],
   "source": [
    "#List based problems"
   ]
  },
  {
   "cell_type": "code",
   "execution_count": null,
   "id": "ab58ed85-329a-4262-8635-ab5bdc4c85ea",
   "metadata": {},
   "outputs": [],
   "source": [
    "#1. Create a list with integers from 1 to 10. "
   ]
  },
  {
   "cell_type": "code",
   "execution_count": 2,
   "id": "46ed309a-6797-4ffe-9afc-d15dc9791e51",
   "metadata": {},
   "outputs": [
    {
     "name": "stdout",
     "output_type": "stream",
     "text": [
      "[1, 2, 3, 4, 5, 6, 7, 8, 9, 10]\n"
     ]
    }
   ],
   "source": [
    "numbers = list(range(1, 11))\n",
    "print(numbers)  "
   ]
  },
  {
   "cell_type": "code",
   "execution_count": null,
   "id": "20c26b28-19c5-4f90-9de2-3922f35f9475",
   "metadata": {},
   "outputs": [],
   "source": []
  },
  {
   "cell_type": "code",
   "execution_count": null,
   "id": "0a0d5854-a976-4be3-bd86-11b0bba24c14",
   "metadata": {},
   "outputs": [],
   "source": [
    "#2. Find the length of a list without using the `len()` function."
   ]
  },
  {
   "cell_type": "code",
   "execution_count": 3,
   "id": "9b6dff83-2d35-41b3-87b1-087e07c49fd1",
   "metadata": {},
   "outputs": [
    {
     "name": "stdout",
     "output_type": "stream",
     "text": [
      "10\n"
     ]
    }
   ],
   "source": [
    "def list_length(lst):\n",
    "    count = 0\n",
    "    for _ in lst:\n",
    "        count += 1\n",
    "    return count\n",
    "\n",
    "numbers = [1, 2, 3, 4, 5, 6, 7, 8, 9, 10]\n",
    "print(list_length(numbers)) "
   ]
  },
  {
   "cell_type": "code",
   "execution_count": null,
   "id": "5346ebec-cca6-45fd-ac9e-93f31fbdc982",
   "metadata": {},
   "outputs": [],
   "source": []
  },
  {
   "cell_type": "code",
   "execution_count": null,
   "id": "c48c678b-3f2c-430d-85ee-49859ff5620d",
   "metadata": {},
   "outputs": [],
   "source": [
    "#3. Append an element to the end of a list. "
   ]
  },
  {
   "cell_type": "code",
   "execution_count": 5,
   "id": "c5ce1322-fdd1-4181-af27-7af47a098814",
   "metadata": {},
   "outputs": [
    {
     "name": "stdout",
     "output_type": "stream",
     "text": [
      "[1, 2, 3, 4, 5, 6]\n"
     ]
    }
   ],
   "source": [
    "# Create a sample list\n",
    "numbers = [1, 2, 3, 4, 5]\n",
    "\n",
    "# Append the integer 6 to the end of the list\n",
    "numbers.append(6)\n",
    "\n",
    "print(numbers)  \n"
   ]
  },
  {
   "cell_type": "code",
   "execution_count": null,
   "id": "4a982872-1e6c-4b56-94cd-95761b5e89f5",
   "metadata": {},
   "outputs": [],
   "source": []
  },
  {
   "cell_type": "code",
   "execution_count": null,
   "id": "43a0d68c-8979-4c20-ad3a-9aa0248586f1",
   "metadata": {},
   "outputs": [],
   "source": [
    "#4. Insert an element at a specific index in a list. "
   ]
  },
  {
   "cell_type": "code",
   "execution_count": 6,
   "id": "fb1421fe-e414-425f-ad4a-df0d1fc5b1c9",
   "metadata": {},
   "outputs": [
    {
     "name": "stdout",
     "output_type": "stream",
     "text": [
      "[1, 2, 3, 4, 5]\n"
     ]
    }
   ],
   "source": [
    "# Create a sample list\n",
    "numbers = [1, 2, 4, 5]\n",
    "\n",
    "# Insert the integer 3 at index 2\n",
    "numbers.insert(2, 3)\n",
    "\n",
    "print(numbers)  # Outputs: [1, 2, 3, 4, 5]\n"
   ]
  },
  {
   "cell_type": "code",
   "execution_count": null,
   "id": "e2bfbf28-8395-4343-bcf6-a4d01804d3fa",
   "metadata": {},
   "outputs": [],
   "source": []
  },
  {
   "cell_type": "code",
   "execution_count": null,
   "id": "056fe74e-67e8-463e-9c09-a9863b53bf35",
   "metadata": {},
   "outputs": [],
   "source": [
    "#5. Remove an element from a list by its value."
   ]
  },
  {
   "cell_type": "code",
   "execution_count": 7,
   "id": "0ee93793-cc7b-40f9-b736-4d1b73930541",
   "metadata": {},
   "outputs": [
    {
     "name": "stdout",
     "output_type": "stream",
     "text": [
      "[1, 2, 4, 5, 3]\n"
     ]
    }
   ],
   "source": [
    "# Create a sample list\n",
    "numbers = [1, 2, 3, 4, 5, 3]\n",
    "\n",
    "# Remove the integer 3 from the list\n",
    "numbers.remove(3)\n",
    "\n",
    "print(numbers)  # Outputs: [1, 2, 4, 5, 3]\n"
   ]
  },
  {
   "cell_type": "code",
   "execution_count": null,
   "id": "d9e6e90f-a979-4bf2-9f8f-7922791657db",
   "metadata": {},
   "outputs": [],
   "source": []
  }
 ],
 "metadata": {
  "kernelspec": {
   "display_name": "Python 3 (ipykernel)",
   "language": "python",
   "name": "python3"
  },
  "language_info": {
   "codemirror_mode": {
    "name": "ipython",
    "version": 3
   },
   "file_extension": ".py",
   "mimetype": "text/x-python",
   "name": "python",
   "nbconvert_exporter": "python",
   "pygments_lexer": "ipython3",
   "version": "3.10.8"
  }
 },
 "nbformat": 4,
 "nbformat_minor": 5
}
