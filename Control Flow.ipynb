{
 "cells": [
  {
   "cell_type": "code",
   "execution_count": null,
   "id": "88707b22-051a-4071-a2f8-57291369cd91",
   "metadata": {},
   "outputs": [],
   "source": [
    "#1. Write a Python program to check if a given number is positive or negative. "
   ]
  },
  {
   "cell_type": "code",
   "execution_count": 2,
   "id": "d3372a2d-9eca-4e49-b301-3fbeba895926",
   "metadata": {},
   "outputs": [
    {
     "name": "stdin",
     "output_type": "stream",
     "text": [
      "enter a number:  5\n"
     ]
    },
    {
     "name": "stdout",
     "output_type": "stream",
     "text": [
      "The number 5.0 is Positive.\n"
     ]
    }
   ],
   "source": [
    "def check_number(n):\n",
    "    if n > 0:\n",
    "        return \"Positive\"\n",
    "    elif n <0:\n",
    "        return \"Negative\"\n",
    "    else:\n",
    "        return \"Zero\"\n",
    "\n",
    "number = float(input(\"enter a number: \"))\n",
    "result = check_number(number)\n",
    "print(f\"The number {number} is {result}.\")"
   ]
  },
  {
   "cell_type": "code",
   "execution_count": null,
   "id": "6edfac35-71bf-4657-8e6d-1d284f4f893d",
   "metadata": {},
   "outputs": [],
   "source": []
  },
  {
   "cell_type": "code",
   "execution_count": null,
   "id": "bb04c381-fae4-4ebe-a234-f5b8bd9ed3d9",
   "metadata": {},
   "outputs": [],
   "source": [
    "#2. Create a program that determines if a person is eligible to vote based on their age. "
   ]
  },
  {
   "cell_type": "code",
   "execution_count": 2,
   "id": "2a46a239-050c-457c-9dac-f77a3f68bded",
   "metadata": {},
   "outputs": [
    {
     "name": "stdin",
     "output_type": "stream",
     "text": [
      "Enter your age:  19\n"
     ]
    },
    {
     "name": "stdout",
     "output_type": "stream",
     "text": [
      "You are eligible to vote.!\n"
     ]
    }
   ],
   "source": [
    "def eligible_vote(age):\n",
    "    if age >= 18:\n",
    "        return True\n",
    "    else:\n",
    "        return False\n",
    "\n",
    "age = int(input(\"Enter your age: \"))\n",
    "\n",
    "if eligible_vote(age):\n",
    "    print(\"You are eligible to vote.!\")\n",
    "else:\n",
    "    print(\"You are not eligible to vote.!\")\n"
   ]
  },
  {
   "cell_type": "code",
   "execution_count": null,
   "id": "4684cf25-8207-473d-be68-55d989fbe079",
   "metadata": {},
   "outputs": [],
   "source": []
  },
  {
   "cell_type": "code",
   "execution_count": null,
   "id": "68bfe062-83c4-4d91-a9fd-b064233661ab",
   "metadata": {},
   "outputs": [],
   "source": [
    "#3. Develop a program to find the maximum of two numbers using if-else statements."
   ]
  },
  {
   "cell_type": "code",
   "execution_count": 3,
   "id": "6a94a742-d2fb-4212-a323-790cf8b7d530",
   "metadata": {},
   "outputs": [
    {
     "name": "stdin",
     "output_type": "stream",
     "text": [
      "Enter the first num: 12\n",
      "Enter the second num: 10\n"
     ]
    },
    {
     "name": "stdout",
     "output_type": "stream",
     "text": [
      "The max of (12.0, 10.0) is: 12.0\n"
     ]
    }
   ],
   "source": [
    "def maximum_num(n1,n2):\n",
    "    if n1>n2:\n",
    "        return n1\n",
    "    else:\n",
    "        return n2\n",
    "num1=float(input(\"Enter the first num:\"))\n",
    "num2=float(input(\"Enter the second num:\"))\n",
    "maximum=maximum_num(num1,num2)\n",
    "print(f\"The max of {num1,num2} is: {maximum}\")"
   ]
  },
  {
   "cell_type": "code",
   "execution_count": null,
   "id": "948b7b32-dde4-47d1-975d-3f7638f58bbe",
   "metadata": {},
   "outputs": [],
   "source": []
  },
  {
   "cell_type": "code",
   "execution_count": null,
   "id": "291ca70d-cb6b-4f16-9f74-3f49eb474f2a",
   "metadata": {},
   "outputs": [],
   "source": [
    "#4. Write a Python script to classify a given year as a leap year or not."
   ]
  },
  {
   "cell_type": "code",
   "execution_count": 4,
   "id": "26e2ccc2-2505-47f6-9829-52b872df6175",
   "metadata": {},
   "outputs": [
    {
     "name": "stdin",
     "output_type": "stream",
     "text": [
      "Enter a year:  2023\n"
     ]
    },
    {
     "name": "stdout",
     "output_type": "stream",
     "text": [
      "2023 is not a leap year...!\n"
     ]
    }
   ],
   "source": [
    "def is_leap_year(year):\n",
    "    if year % 4 == 0:\n",
    "        if year % 100 == 0:\n",
    "            if year % 400 == 0:\n",
    "                return True\n",
    "            else:\n",
    "                return False\n",
    "        else:\n",
    "            return True\n",
    "    else:\n",
    "        return False\n",
    "    \n",
    "year=int(input(\"Enter a year: \"))\n",
    "\n",
    "if is_leap_year(year):\n",
    "    print(f\"{year} is a leap year...!\")\n",
    "else:\n",
    "    print(f\"{year} is not a leap year...!\")"
   ]
  },
  {
   "cell_type": "code",
   "execution_count": null,
   "id": "ddac536c-2265-4a19-84be-6de6e27772e9",
   "metadata": {},
   "outputs": [],
   "source": []
  },
  {
   "cell_type": "code",
   "execution_count": null,
   "id": "e38b3436-dccd-4e37-8ab9-671e3b6016e8",
   "metadata": {},
   "outputs": [],
   "source": [
    "#5. Create a program that checks whether a character is a vowel or a consonant. "
   ]
  },
  {
   "cell_type": "code",
   "execution_count": 7,
   "id": "b1dd11e0-f388-404d-aed7-d53c3040c132",
   "metadata": {},
   "outputs": [
    {
     "name": "stdin",
     "output_type": "stream",
     "text": [
      "Enter a single character:  a\n"
     ]
    },
    {
     "name": "stdout",
     "output_type": "stream",
     "text": [
      "The character 'a' is a Vowel.\n"
     ]
    }
   ],
   "source": [
    "def character(ch):\n",
    "    vowels = 'AEIOUaeiou'\n",
    "    \n",
    "    if ch.isalpha():\n",
    "        if ch in vowels:\n",
    "            return \"Vowel\"\n",
    "        else:\n",
    "            return \"Consonant\"\n",
    "    else:\n",
    "        return \"Not an alphabet\"\n",
    "\n",
    "char = input(\"Enter a single character: \")\n",
    "\n",
    "if len(char)!=1:\n",
    "    print(\"Please enter only one character.\")\n",
    "else:\n",
    "    classification=character(char)\n",
    "    print(f\"The character '{char}' is a {classification}.\")"
   ]
  },
  {
   "cell_type": "code",
   "execution_count": null,
   "id": "794905d9-bfbf-418a-9b6c-d683785e561a",
   "metadata": {},
   "outputs": [],
   "source": []
  },
  {
   "cell_type": "code",
   "execution_count": null,
   "id": "b581100f-406a-4ff1-bb63-536505b03fde",
   "metadata": {},
   "outputs": [],
   "source": [
    "#6. Implement a program to determine whether a given number is even or odd."
   ]
  },
  {
   "cell_type": "code",
   "execution_count": 11,
   "id": "f68fe027-6e14-4106-af2b-23192b497ff3",
   "metadata": {},
   "outputs": [
    {
     "name": "stdin",
     "output_type": "stream",
     "text": [
      "Enter number:  4\n"
     ]
    },
    {
     "name": "stdout",
     "output_type": "stream",
     "text": [
      "The number 4 is Even\n"
     ]
    }
   ],
   "source": [
    "def even_odd(n):\n",
    "    if n % 2 == 0:\n",
    "        return \"Even\"\n",
    "    else:\n",
    "        return \"odd\"\n",
    "    \n",
    "num = int(input(\"Enter number: \"))\n",
    "final = even_odd(num)\n",
    "print(f\"The number {num} is {final}\")"
   ]
  },
  {
   "cell_type": "code",
   "execution_count": null,
   "id": "6eb6ae9d-5f31-40cf-9433-784789f66ed0",
   "metadata": {},
   "outputs": [],
   "source": []
  },
  {
   "cell_type": "code",
   "execution_count": null,
   "id": "74205990-6c18-408e-84c5-8d4b51a0820a",
   "metadata": {},
   "outputs": [],
   "source": [
    "#7. Write a Python function to calculate the absolute value of a number without using the `abs()` function."
   ]
  },
  {
   "cell_type": "code",
   "execution_count": 13,
   "id": "3be01347-51e3-440e-b5b3-3b7496c3c66a",
   "metadata": {},
   "outputs": [
    {
     "name": "stdin",
     "output_type": "stream",
     "text": [
      "Enter a number:  -5\n"
     ]
    },
    {
     "name": "stdout",
     "output_type": "stream",
     "text": [
      " Absolute value of -5.0 is 5.0\n"
     ]
    }
   ],
   "source": [
    "def abs_value(num):\n",
    "    if num < 0:\n",
    "        return -num\n",
    "    else:\n",
    "        return num\n",
    "\n",
    "number = float(input(\"Enter a number: \"))\n",
    "value = abs_value(number)\n",
    "print(f\" Absolute value of {number} is {value}\")"
   ]
  },
  {
   "cell_type": "code",
   "execution_count": null,
   "id": "9396afc7-0c27-4a5b-9e48-9fc056e9e75c",
   "metadata": {},
   "outputs": [],
   "source": []
  },
  {
   "cell_type": "code",
   "execution_count": null,
   "id": "ed5410a4-a364-41d9-9562-0d652062c8f0",
   "metadata": {},
   "outputs": [],
   "source": [
    "#8. Develop a program that determines the largest of three given numbers using if-else statements."
   ]
  },
  {
   "cell_type": "code",
   "execution_count": 14,
   "id": "a5ce7a16-06da-473a-8b6c-26fd83b13665",
   "metadata": {},
   "outputs": [
    {
     "name": "stdin",
     "output_type": "stream",
     "text": [
      "Enter 1st num:  2\n",
      "Enter 2st num:  1\n",
      "Enter 3st num:  5\n"
     ]
    },
    {
     "name": "stdout",
     "output_type": "stream",
     "text": [
      "The large number of is 5.0\n"
     ]
    }
   ],
   "source": [
    "def large_num(num1,num2,num3):\n",
    "    if num1>=num2 and num1>=num3:\n",
    "        return num1\n",
    "    elif num2>=num3 and num2>=num1:\n",
    "        return num2\n",
    "    else:\n",
    "        return num3\n",
    "    \n",
    "number1 = float(input(\"Enter 1st num: \"))\n",
    "number2 = float(input(\"Enter 2st num: \"))\n",
    "number3 = float(input(\"Enter 3st num: \"))\n",
    "\n",
    "large=large_num(number1,number2,number3)\n",
    "print(f\"The large number of is {large}\")\n"
   ]
  },
  {
   "cell_type": "code",
   "execution_count": null,
   "id": "e0a87a72-938d-4252-a6c5-07007d781c90",
   "metadata": {},
   "outputs": [],
   "source": []
  },
  {
   "cell_type": "code",
   "execution_count": null,
   "id": "566db8cb-2aa3-411a-8c1d-9121cc9c7334",
   "metadata": {},
   "outputs": [],
   "source": [
    "#9. Create a program that checks if a given string is a palindrome. "
   ]
  },
  {
   "cell_type": "code",
   "execution_count": 15,
   "id": "e455f6ff-a551-4a1b-bff4-500cd335ee4c",
   "metadata": {},
   "outputs": [
    {
     "name": "stdin",
     "output_type": "stream",
     "text": [
      "Enter a string;  mam\n"
     ]
    },
    {
     "name": "stdout",
     "output_type": "stream",
     "text": [
      "is a palindrome\n"
     ]
    }
   ],
   "source": [
    "def palindrome(s):\n",
    "    string=''.join(e for e in s if e.isalnum()).lower()\n",
    "    reverse=string[::-1]\n",
    "    return string == reverse\n",
    "\n",
    "s1=input(\"Enter a string; \")\n",
    "\n",
    "if palindrome(s1):\n",
    "    print(f\"is a palindrome\")\n",
    "else:\n",
    "    print(f\"is not a palindrome\")"
   ]
  },
  {
   "cell_type": "code",
   "execution_count": null,
   "id": "3b53848a-e6db-434d-9744-46309a1a1011",
   "metadata": {},
   "outputs": [],
   "source": []
  },
  {
   "cell_type": "code",
   "execution_count": null,
   "id": "ff4cc7de-e6db-4fc2-b289-30c82e329e28",
   "metadata": {},
   "outputs": [],
   "source": [
    "#10. Write a Python program to calculate the grade based on a student's score. "
   ]
  },
  {
   "cell_type": "code",
   "execution_count": 21,
   "id": "5b0e3db2-f990-4bda-b602-4190f14453ee",
   "metadata": {},
   "outputs": [
    {
     "name": "stdin",
     "output_type": "stream",
     "text": [
      "Enter the students score :  60\n"
     ]
    },
    {
     "name": "stdout",
     "output_type": "stream",
     "text": [
      "The grade for a score of 60.0 is: D\n"
     ]
    }
   ],
   "source": [
    "def grade(score):\n",
    "    if score>=90:\n",
    "        return 'A'\n",
    "    elif score>=80:\n",
    "        return 'B'\n",
    "    elif score>=70:\n",
    "        return 'C'\n",
    "    elif score >=60:\n",
    "        return 'D'\n",
    "    else:\n",
    "        return 'F'\n",
    "\n",
    "score=float(input(\"Enter the students score : \"))\n",
    "g = grade(score)\n",
    "print(f\"The grade for a score of {score} is: {g}\")"
   ]
  },
  {
   "cell_type": "code",
   "execution_count": null,
   "id": "56beeed0-c956-4858-8a59-952acf6a7dbb",
   "metadata": {},
   "outputs": [],
   "source": []
  },
  {
   "cell_type": "code",
   "execution_count": null,
   "id": "b44ac4b7-0190-4c83-a5ef-3bff30ccac60",
   "metadata": {},
   "outputs": [],
   "source": [
    "#11. Write a program to find the largest among three numbers using nested if-else statements."
   ]
  },
  {
   "cell_type": "code",
   "execution_count": 1,
   "id": "cb36adbc-5bd5-4b91-ab3b-f0e31675bb7d",
   "metadata": {},
   "outputs": [
    {
     "name": "stdin",
     "output_type": "stream",
     "text": [
      "Enter 1st number:  5\n",
      "Enter 2nd number:  8\n",
      "Enter 3rd number:  6\n"
     ]
    },
    {
     "name": "stdout",
     "output_type": "stream",
     "text": [
      "Large of three numbers: 8.0\n"
     ]
    }
   ],
   "source": [
    "def large_of_three(num1,num2,num3):\n",
    "    if num1 > num2:\n",
    "        if num1 > num3:\n",
    "            return num1\n",
    "        else:\n",
    "            return num3\n",
    "    else:\n",
    "        if num2 > num3:\n",
    "            return num2\n",
    "        else:\n",
    "            return num3\n",
    "\n",
    "n1=float(input(\"Enter 1st number: \"))\n",
    "n2=float(input(\"Enter 2nd number: \"))\n",
    "n3=float(input(\"Enter 3rd number: \"))\n",
    "\n",
    "numbers=large_of_three(n1,n2,n3)\n",
    "print(f\"Large of three numbers: {numbers}\")"
   ]
  },
  {
   "cell_type": "code",
   "execution_count": null,
   "id": "91ee445a-188e-4b3b-aa72-5a08df1bbcd2",
   "metadata": {},
   "outputs": [],
   "source": []
  },
  {
   "cell_type": "code",
   "execution_count": null,
   "id": "04daaad7-e3dc-46cd-aa45-359e8dd33e3a",
   "metadata": {},
   "outputs": [],
   "source": [
    "#12. Implement a program to determine if a triangle is equilateral, isosceles, or scalene."
   ]
  },
  {
   "cell_type": "code",
   "execution_count": 4,
   "id": "e5aae37a-5a90-48c1-bcd3-79ea97f72e32",
   "metadata": {},
   "outputs": [
    {
     "name": "stdin",
     "output_type": "stream",
     "text": [
      "Enter the length of 1st side:  2\n",
      "Enter the length of 2nd side:  3\n",
      "Enter the length of 3rd side:  4\n"
     ]
    },
    {
     "name": "stdout",
     "output_type": "stream",
     "text": [
      "Type of a triangle: scalene\n"
     ]
    }
   ],
   "source": [
    "def triangle(side1,side2,side3):\n",
    "    if side1==side2==side3:\n",
    "        return \"equilateral\"\n",
    "    elif side1==side2 or side1==side3 or side2==side3:\n",
    "        return \"isosceles\"\n",
    "    else:\n",
    "        return \"scalene\"\n",
    "\n",
    "side1=float(input(\"Enter the length of 1st side: \"))\n",
    "side2=float(input(\"Enter the length of 2nd side: \"))\n",
    "side3=float(input(\"Enter the length of 3rd side: \"))\n",
    "\n",
    "triangle_side=triangle(side1,side2,side3)\n",
    "print(f\"Type of a triangle: {triangle_side}\")"
   ]
  },
  {
   "cell_type": "code",
   "execution_count": null,
   "id": "6283a7de-b370-4b73-8e9f-5e74781a49a9",
   "metadata": {},
   "outputs": [],
   "source": []
  },
  {
   "cell_type": "code",
   "execution_count": null,
   "id": "ee122204-b2f5-402a-a96c-70c097049da4",
   "metadata": {},
   "outputs": [],
   "source": [
    "#13. Develop a program that checks if a year is a leap year and also if it is a century year."
   ]
  },
  {
   "cell_type": "code",
   "execution_count": 12,
   "id": "7500b61d-e83e-4fd4-ba91-c2308cfab665",
   "metadata": {},
   "outputs": [
    {
     "name": "stdin",
     "output_type": "stream",
     "text": [
      "Enter a year:  2100\n"
     ]
    },
    {
     "name": "stdout",
     "output_type": "stream",
     "text": [
      "2100 is not a leap year\n",
      "2100 is a century year\n"
     ]
    }
   ],
   "source": [
    "def leap(year):\n",
    "    if year % 4 == 0:\n",
    "        if year % 100 == 0:\n",
    "            if year % 400 == 0:\n",
    "                return True\n",
    "            else:\n",
    "                return False\n",
    "        else:\n",
    "            return True\n",
    "    else:\n",
    "        return False\n",
    "\n",
    "def century(year):\n",
    "    if year % 100 == 0:\n",
    "        return True\n",
    "    \n",
    "year = int(input(\"Enter a year: \"))\n",
    "\n",
    "if leap(year):\n",
    "    print(f\"{year} is a leap year\")\n",
    "else:\n",
    "    print(f\"{year} is not a leap year\")\n",
    "\n",
    "if century(year):\n",
    "    print(f\"{year} is a century year\")\n",
    "else:\n",
    "    print(f\"{year} is not a century year\")"
   ]
  },
  {
   "cell_type": "code",
   "execution_count": null,
   "id": "aba7c7a1-d1c2-423f-955a-bc2342900012",
   "metadata": {},
   "outputs": [],
   "source": []
  },
  {
   "cell_type": "code",
   "execution_count": null,
   "id": "102cf2e7-b445-486c-8886-b0adc2cd42b9",
   "metadata": {},
   "outputs": [],
   "source": [
    "#14. Write a Python script to determine if a number is positive, negative, or zero."
   ]
  },
  {
   "cell_type": "code",
   "execution_count": 15,
   "id": "9e814cfc-97b0-4ade-818e-924fa28807d4",
   "metadata": {},
   "outputs": [
    {
     "name": "stdin",
     "output_type": "stream",
     "text": [
      "Enter a number:  0\n"
     ]
    },
    {
     "name": "stdout",
     "output_type": "stream",
     "text": [
      "The number 0.0 is Zero\n"
     ]
    }
   ],
   "source": [
    "def given_number(num):\n",
    "    if num>0:\n",
    "        return \"Positive\"\n",
    "    elif num<0:\n",
    "        return \"Negative\"\n",
    "    else:\n",
    "        return \"Zero\"\n",
    "\n",
    "number=float(input(\"Enter a number: \"))\n",
    "final=given_number(number) \n",
    "print(f\"The number {number} is {final}\")"
   ]
  },
  {
   "cell_type": "code",
   "execution_count": null,
   "id": "705c2834-928a-4c2f-a99b-92cb9ba02517",
   "metadata": {},
   "outputs": [],
   "source": []
  },
  {
   "cell_type": "code",
   "execution_count": null,
   "id": "04020549-4a54-4113-8c9a-f63417e4b436",
   "metadata": {},
   "outputs": [],
   "source": [
    "#15. Create a program to check if a person is a teenager (between 13 and 19 years old)."
   ]
  },
  {
   "cell_type": "code",
   "execution_count": 20,
   "id": "bb9d552f-a1c9-4037-8f4d-e272eb3aefbb",
   "metadata": {},
   "outputs": [
    {
     "name": "stdin",
     "output_type": "stream",
     "text": [
      "Enter the age 12\n"
     ]
    },
    {
     "name": "stdout",
     "output_type": "stream",
     "text": [
      "The person is not a teenager\n"
     ]
    }
   ],
   "source": [
    "def teenage(age):\n",
    "    if 13<=age<=19:\n",
    "        return True\n",
    "    else:\n",
    "        return False\n",
    "\n",
    "give_age= int(input(\"Enter the age\"))\n",
    "if teenage(give_age):\n",
    "    print(\"The person is a teenager\")\n",
    "else:\n",
    "    print(\"The person is not a teenager\")"
   ]
  },
  {
   "cell_type": "code",
   "execution_count": null,
   "id": "1861a38a-5e7c-4658-9eff-aaf78bc9d851",
   "metadata": {},
   "outputs": [],
   "source": []
  },
  {
   "cell_type": "code",
   "execution_count": null,
   "id": "b8b2ee56-9bfb-43fb-9a2f-caa7266d5f6f",
   "metadata": {},
   "outputs": [],
   "source": [
    "#16. Develop a program that determines the type of angle based on its measure (acute, obtuse, or right)."
   ]
  },
  {
   "cell_type": "code",
   "execution_count": 28,
   "id": "f3d02ccc-b7df-4c56-b505-0bb66d2349bd",
   "metadata": {},
   "outputs": [
    {
     "name": "stdin",
     "output_type": "stream",
     "text": [
      "Enter the Angle:  100\n"
     ]
    },
    {
     "name": "stdout",
     "output_type": "stream",
     "text": [
      "The angle is Otuse Angle\n"
     ]
    }
   ],
   "source": [
    "def angle(m):\n",
    "    if 0 < m < 90:\n",
    "        return \"Acute Angle\"\n",
    "    elif m == 90:\n",
    "        return \"Right Angle\"\n",
    "    elif 90 < m < 180:\n",
    "        return \"Otuse Angle\"\n",
    "    else:\n",
    "        return \"Invalid\"\n",
    "    \n",
    "m=float(input(\"Enter the Angle: \"))\n",
    "ang=angle(m)\n",
    "print(f\"The angle is {ang}\")\n"
   ]
  },
  {
   "cell_type": "code",
   "execution_count": null,
   "id": "00606290-3b5b-406d-b686-999b346ab070",
   "metadata": {},
   "outputs": [],
   "source": []
  },
  {
   "cell_type": "code",
   "execution_count": null,
   "id": "c515e42e-601e-4088-ab70-a80862087757",
   "metadata": {},
   "outputs": [],
   "source": [
    "#18. Implement a program to determine the day of the week based on a user-provided number (1 for Monday, 2  for Tuesday, etc.). "
   ]
  },
  {
   "cell_type": "code",
   "execution_count": 7,
   "id": "1ae702cd-5016-4232-8f59-308a66c1a6e5",
   "metadata": {},
   "outputs": [
    {
     "name": "stdin",
     "output_type": "stream",
     "text": [
      "Enter a number 5\n"
     ]
    },
    {
     "name": "stdout",
     "output_type": "stream",
     "text": [
      "The day of the week is: Friday\n"
     ]
    }
   ],
   "source": [
    "def dayofweek(day_number):\n",
    "    days = {\n",
    "        1: \"Monday\",\n",
    "        2: \"Tuesday\",\n",
    "        3: \"Wednesday\",\n",
    "        4: \"Thursday\",\n",
    "        5: \"Friday\",\n",
    "        6: \"Saturday\",\n",
    "        7: \"sunday\"\n",
    "    }\n",
    "    \n",
    "    return days.get(day_number, \"Invalid day number\")\n",
    "\n",
    "day_num = int(input(\"Enter a number\"))\n",
    "\n",
    "day_name= dayofweek(day_num)\n",
    "\n",
    "if day_name == \"Invalid day number\":\n",
    "    print(day_name)\n",
    "else:\n",
    "    print(f\"The day of the week is: {day_name}\")        "
   ]
  },
  {
   "cell_type": "code",
   "execution_count": null,
   "id": "a095bf8a-9df2-4513-b518-8ad0b714298d",
   "metadata": {},
   "outputs": [],
   "source": []
  },
  {
   "cell_type": "code",
   "execution_count": null,
   "id": "9ef1911c-b168-4110-a328-a5f35463d951",
   "metadata": {},
   "outputs": [],
   "source": [
    "#19. Create a program that determines if a year is a leap year and also if it is evenly divisible by 400."
   ]
  },
  {
   "cell_type": "code",
   "execution_count": 13,
   "id": "bdad7c2b-6d7c-4754-b6b9-872ff7d18cea",
   "metadata": {},
   "outputs": [
    {
     "name": "stdin",
     "output_type": "stream",
     "text": [
      "Enter year:  2000\n"
     ]
    },
    {
     "name": "stdout",
     "output_type": "stream",
     "text": [
      "2000 year is leap year\n",
      "2000 year divisible by 400\n"
     ]
    }
   ],
   "source": [
    "def leap(year):\n",
    "    if (year%4==0 and year%100!=0) or year%400==0:\n",
    "        return True\n",
    "    else:\n",
    "        return False\n",
    "\n",
    "def div_by_400(year):\n",
    "    return year%400==0\n",
    "\n",
    "year=int(input(\"Enter year: \"))\n",
    "\n",
    "if leap(year):\n",
    "    print(f\"{year} year is leap year\")\n",
    "else:\n",
    "    print(f\"{year} year is not leap year\")\n",
    "\n",
    "if div_by_400(year):\n",
    "    print(f\"{year} year divisible by 400\")"
   ]
  },
  {
   "cell_type": "code",
   "execution_count": null,
   "id": "ec7f65ed-3ca5-4a4c-9af4-96f3b6b32561",
   "metadata": {},
   "outputs": [],
   "source": []
  },
  {
   "cell_type": "code",
   "execution_count": null,
   "id": "b90b5c12-a5de-4f20-aece-5c63ff140726",
   "metadata": {},
   "outputs": [],
   "source": [
    "#20. Develop a program that checks if a given number is prime or not using nested if-else statements. "
   ]
  },
  {
   "cell_type": "code",
   "execution_count": 15,
   "id": "9dd8b726-f1a3-4679-bb40-2030264ba4a3",
   "metadata": {},
   "outputs": [
    {
     "name": "stdin",
     "output_type": "stream",
     "text": [
      "Enter a number:  3\n"
     ]
    },
    {
     "name": "stdout",
     "output_type": "stream",
     "text": [
      "3 number is prime number\n"
     ]
    }
   ],
   "source": [
    "def prime(num):\n",
    "    if num>1:\n",
    "        for i in range(2, int(num**0.5)+1):\n",
    "            if num%i==0:\n",
    "                return False\n",
    "        else:\n",
    "            return True\n",
    "    else:\n",
    "        return False\n",
    "\n",
    "number = int(input(\"Enter a number: \"))\n",
    "if prime(number):\n",
    "    print(f\"{number} number is prime number\")\n",
    "else:\n",
    "    print(f\"{number} number is Not a prime number\")"
   ]
  },
  {
   "cell_type": "code",
   "execution_count": null,
   "id": "738583e7-bd33-4dac-b54d-776c984d5df4",
   "metadata": {},
   "outputs": [],
   "source": []
  },
  {
   "cell_type": "code",
   "execution_count": null,
   "id": "7a00ccba-de82-4946-b3e4-e1867850ef98",
   "metadata": {},
   "outputs": [],
   "source": []
  }
 ],
 "metadata": {
  "kernelspec": {
   "display_name": "Python 3 (ipykernel)",
   "language": "python",
   "name": "python3"
  },
  "language_info": {
   "codemirror_mode": {
    "name": "ipython",
    "version": 3
   },
   "file_extension": ".py",
   "mimetype": "text/x-python",
   "name": "python",
   "nbconvert_exporter": "python",
   "pygments_lexer": "ipython3",
   "version": "3.10.8"
  }
 },
 "nbformat": 4,
 "nbformat_minor": 5
}
