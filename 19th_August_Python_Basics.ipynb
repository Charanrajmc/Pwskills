{
 "cells": [
  {
   "cell_type": "code",
   "execution_count": 24,
   "id": "f112fd04-4d5f-4a71-8c0f-dc9e6ab13160",
   "metadata": {},
   "outputs": [],
   "source": [
    "#TOPIC: Python Basics Variable "
   ]
  },
  {
   "cell_type": "code",
   "execution_count": 24,
   "id": "30018ede-5cf5-4854-a8dd-8706fff83fed",
   "metadata": {},
   "outputs": [],
   "source": [
    "'''1. Declare two variables, `x` and `y`, and assign them integer values. Swap the\n",
    "values of these variables without using any temporary variable.'''"
   ]
  },
  {
   "cell_type": "code",
   "execution_count": 63,
   "id": "18914f6a-9784-4f69-b25a-fc5b141e8271",
   "metadata": {},
   "outputs": [],
   "source": [
    "x=10"
   ]
  },
  {
   "cell_type": "code",
   "execution_count": 64,
   "id": "43388cbf-87cf-44e5-89d3-6ee0605cc2b4",
   "metadata": {},
   "outputs": [
    {
     "data": {
      "text/plain": [
       "10"
      ]
     },
     "execution_count": 64,
     "metadata": {},
     "output_type": "execute_result"
    }
   ],
   "source": [
    "x"
   ]
  },
  {
   "cell_type": "code",
   "execution_count": 65,
   "id": "17cdc217-36d1-4eb2-aeb1-3c3163534f05",
   "metadata": {},
   "outputs": [],
   "source": [
    "y=20"
   ]
  },
  {
   "cell_type": "code",
   "execution_count": 66,
   "id": "69ffe742-3515-42b7-9d95-c3b1e113e04a",
   "metadata": {},
   "outputs": [
    {
     "data": {
      "text/plain": [
       "20"
      ]
     },
     "execution_count": 66,
     "metadata": {},
     "output_type": "execute_result"
    }
   ],
   "source": [
    "y"
   ]
  },
  {
   "cell_type": "code",
   "execution_count": 67,
   "id": "228dc5d9-ef95-4c5a-ade6-149f6ce84fe7",
   "metadata": {},
   "outputs": [],
   "source": [
    "#Adding two variable storing in higher value variable\n",
    "y=x+y"
   ]
  },
  {
   "cell_type": "code",
   "execution_count": 68,
   "id": "c5c54031-cb0b-4704-8fb0-1aee132eb363",
   "metadata": {},
   "outputs": [],
   "source": [
    "x=y-x"
   ]
  },
  {
   "cell_type": "code",
   "execution_count": 69,
   "id": "1df9d801-c855-4782-9400-0e953d26ddbe",
   "metadata": {},
   "outputs": [],
   "source": [
    "y=y-x"
   ]
  },
  {
   "cell_type": "code",
   "execution_count": 70,
   "id": "50370a9d-5107-47f7-88fb-5ab514225ce3",
   "metadata": {},
   "outputs": [
    {
     "data": {
      "text/plain": [
       "10"
      ]
     },
     "execution_count": 70,
     "metadata": {},
     "output_type": "execute_result"
    }
   ],
   "source": [
    "y"
   ]
  },
  {
   "cell_type": "code",
   "execution_count": 71,
   "id": "52c13400-3cb6-4236-b3bf-af717e96a3ff",
   "metadata": {},
   "outputs": [
    {
     "data": {
      "text/plain": [
       "20"
      ]
     },
     "execution_count": 71,
     "metadata": {},
     "output_type": "execute_result"
    }
   ],
   "source": [
    "x"
   ]
  },
  {
   "cell_type": "code",
   "execution_count": null,
   "id": "7716f976-d5ea-47a4-8fca-c4b16e12b71d",
   "metadata": {},
   "outputs": [],
   "source": [
    "'''2. Create a program that calculates the area of a rectangle. \n",
    "Take the length and width as inputs from the user and store them in variables. Calculate and display the area. '''"
   ]
  },
  {
   "cell_type": "code",
   "execution_count": 7,
   "id": "daec6c56-881e-42e2-b329-c0df54c1536d",
   "metadata": {},
   "outputs": [
    {
     "name": "stdin",
     "output_type": "stream",
     "text": [
      "Enter Length:  3\n"
     ]
    }
   ],
   "source": [
    "l =  input(\"Enter Length: \")"
   ]
  },
  {
   "cell_type": "code",
   "execution_count": 8,
   "id": "d8369ccb-1f80-4bea-91b5-229a9d11b3d4",
   "metadata": {},
   "outputs": [
    {
     "name": "stdin",
     "output_type": "stream",
     "text": [
      "Enter Width:  10\n"
     ]
    }
   ],
   "source": [
    "w = input(\"Enter Width: \")"
   ]
  },
  {
   "cell_type": "code",
   "execution_count": 9,
   "id": "df05f8ed-cc44-4a46-b670-b395c4f4142a",
   "metadata": {},
   "outputs": [],
   "source": [
    "#Area of rectangle = Length * Width\n",
    "a=int(l)*int(w)"
   ]
  },
  {
   "cell_type": "code",
   "execution_count": 10,
   "id": "5e3c7c45-e154-4cca-b583-2e2f7c5efa69",
   "metadata": {},
   "outputs": [
    {
     "data": {
      "text/plain": [
       "30"
      ]
     },
     "execution_count": 10,
     "metadata": {},
     "output_type": "execute_result"
    }
   ],
   "source": [
    "a"
   ]
  },
  {
   "cell_type": "code",
   "execution_count": null,
   "id": "8f5b493f-6529-4a42-bb36-e09cdfbbc714",
   "metadata": {},
   "outputs": [],
   "source": [
    "'''3. Write a Python program that converts temperatures from Celsius to Fahrenheit. \n",
    "Take the temperature in Celsius as input, store it in a variable, convert it to Fahrenheit, and display the result. '''"
   ]
  },
  {
   "cell_type": "code",
   "execution_count": 11,
   "id": "068fc510-3da7-4573-a4d8-22290fa7bf0a",
   "metadata": {},
   "outputs": [
    {
     "name": "stdin",
     "output_type": "stream",
     "text": [
      "Enter temp in celsius:  2\n"
     ]
    }
   ],
   "source": [
    "t= input(\"Enter temp in celsius: \")"
   ]
  },
  {
   "cell_type": "code",
   "execution_count": 12,
   "id": "df401572-cb24-47e9-bd65-e85912612eb6",
   "metadata": {},
   "outputs": [],
   "source": [
    "#Celsius to fahrenheit conversion F=(Celsious*(9/5))+32\n",
    "f= (int(t)*(9/5))+32"
   ]
  },
  {
   "cell_type": "code",
   "execution_count": 13,
   "id": "d52903b2-ee29-4ca6-8215-63c3e514e941",
   "metadata": {},
   "outputs": [
    {
     "data": {
      "text/plain": [
       "35.6"
      ]
     },
     "execution_count": 13,
     "metadata": {},
     "output_type": "execute_result"
    }
   ],
   "source": [
    "f"
   ]
  },
  {
   "cell_type": "code",
   "execution_count": null,
   "id": "6b0ab8e5-2be8-4751-8ecf-9f07ee867135",
   "metadata": {},
   "outputs": [],
   "source": []
  },
  {
   "cell_type": "code",
   "execution_count": null,
   "id": "4b9b3eb5-c56b-46ba-ad03-cd2b3e429e14",
   "metadata": {},
   "outputs": [],
   "source": [
    "#TOPIC: String Based Questions"
   ]
  },
  {
   "cell_type": "code",
   "execution_count": null,
   "id": "4c0fd519-6f86-4f33-89fc-5359efa10d2f",
   "metadata": {},
   "outputs": [],
   "source": [
    "'''1. Write a Python program that takes a string as input and prints the length of the string.'''"
   ]
  },
  {
   "cell_type": "code",
   "execution_count": 20,
   "id": "cfb72883-e1c9-4d1c-8fce-65839f16df01",
   "metadata": {},
   "outputs": [
    {
     "name": "stdin",
     "output_type": "stream",
     "text": [
      "Enter the string:  pwskills\n"
     ]
    }
   ],
   "source": [
    "s=input(\"Enter the string: \")"
   ]
  },
  {
   "cell_type": "code",
   "execution_count": 21,
   "id": "961cc434-53fd-4913-871b-9b20878fb81d",
   "metadata": {},
   "outputs": [
    {
     "data": {
      "text/plain": [
       "8"
      ]
     },
     "execution_count": 21,
     "metadata": {},
     "output_type": "execute_result"
    }
   ],
   "source": [
    "#length of string\n",
    "len(s)"
   ]
  },
  {
   "cell_type": "code",
   "execution_count": null,
   "id": "dfd0a993-b4d3-4df9-ac66-869ad84966f0",
   "metadata": {},
   "outputs": [],
   "source": [
    "'''2. Create a program that takes a sentence from the user and counts the number of vowels (a, e, i, o, u) in the string. '''"
   ]
  },
  {
   "cell_type": "code",
   "execution_count": 64,
   "id": "652fb0b9-87c5-41d8-be0d-01bdbcef8108",
   "metadata": {},
   "outputs": [
    {
     "name": "stdin",
     "output_type": "stream",
     "text": [
      "Enter sentence:  Charan Raj Prakruthi\n"
     ]
    }
   ],
   "source": [
    "s2= input(\"Enter sentence: \")"
   ]
  },
  {
   "cell_type": "code",
   "execution_count": 66,
   "id": "6c6c49c1-957e-436f-a7f5-c654c1be38c2",
   "metadata": {},
   "outputs": [],
   "source": [
    "#counting a in given sentence\n",
    "a=s2.count('a') "
   ]
  },
  {
   "cell_type": "code",
   "execution_count": 67,
   "id": "bfd69886-7a13-4931-a4db-55ccfc47a8d8",
   "metadata": {},
   "outputs": [],
   "source": [
    "e=s2.count('e')"
   ]
  },
  {
   "cell_type": "code",
   "execution_count": 68,
   "id": "b8c3d323-ffe5-4eb6-903d-ff8e795159f2",
   "metadata": {},
   "outputs": [],
   "source": [
    "i=s2.count('i')"
   ]
  },
  {
   "cell_type": "code",
   "execution_count": 69,
   "id": "40f5ef8f-3af2-45e7-8171-08aaaa4e5965",
   "metadata": {},
   "outputs": [],
   "source": [
    "o=s2.count('o')"
   ]
  },
  {
   "cell_type": "code",
   "execution_count": 70,
   "id": "96997141-22a8-427c-a4da-62e906ecf6ab",
   "metadata": {},
   "outputs": [],
   "source": [
    "u=s2.count('u')"
   ]
  },
  {
   "cell_type": "code",
   "execution_count": 73,
   "id": "163da02c-e970-4517-81b6-f2c6cb426d80",
   "metadata": {},
   "outputs": [],
   "source": [
    "#adding all vowels counts\n",
    "vowels=a+e+i+o+u"
   ]
  },
  {
   "cell_type": "code",
   "execution_count": 74,
   "id": "f51c2f2c-0a25-4d61-a6d1-53cb8001e290",
   "metadata": {},
   "outputs": [
    {
     "data": {
      "text/plain": [
       "6"
      ]
     },
     "execution_count": 74,
     "metadata": {},
     "output_type": "execute_result"
    }
   ],
   "source": [
    "vowels"
   ]
  },
  {
   "cell_type": "code",
   "execution_count": null,
   "id": "a70c8519-457d-4992-9918-6386f2f345a4",
   "metadata": {},
   "outputs": [],
   "source": [
    "'''3. Given a string, reverse the order of characters using string slicing and print the reversed string. '''"
   ]
  },
  {
   "cell_type": "code",
   "execution_count": 75,
   "id": "59cfcccb-5a7c-482b-a753-0cbae7a9b9a5",
   "metadata": {},
   "outputs": [],
   "source": [
    "s3=\"Charanraj\""
   ]
  },
  {
   "cell_type": "code",
   "execution_count": 85,
   "id": "398cef7c-5461-43f1-a212-d13b0ce965d2",
   "metadata": {},
   "outputs": [
    {
     "data": {
      "text/plain": [
       "'jarnarahC'"
      ]
     },
     "execution_count": 85,
     "metadata": {},
     "output_type": "execute_result"
    }
   ],
   "source": [
    "#Reversed string here\n",
    "s3[::-1]"
   ]
  },
  {
   "cell_type": "code",
   "execution_count": null,
   "id": "34847fd7-0580-4091-aeae-08bea4d076ca",
   "metadata": {},
   "outputs": [],
   "source": [
    "'''4. Write a program that takes a string as input and checks if it is a palindrome (reads the same forwards and backwards). '''"
   ]
  },
  {
   "cell_type": "code",
   "execution_count": 105,
   "id": "09d26376-02a1-4029-b1c2-ec041a2dbda0",
   "metadata": {},
   "outputs": [
    {
     "name": "stdin",
     "output_type": "stream",
     "text": [
      "Enter String:  kanak\n"
     ]
    }
   ],
   "source": [
    "s4= input(\"Enter String: \")"
   ]
  },
  {
   "cell_type": "code",
   "execution_count": 106,
   "id": "e5b7c9d8-5dd0-4293-9b7a-49f3c6b11278",
   "metadata": {},
   "outputs": [],
   "source": [
    "#Reversing the string\n",
    "s5=s4[::-1]"
   ]
  },
  {
   "cell_type": "code",
   "execution_count": 107,
   "id": "44375644-9d1f-458e-83e4-4d336f4ba870",
   "metadata": {},
   "outputs": [
    {
     "data": {
      "text/plain": [
       "True"
      ]
     },
     "execution_count": 107,
     "metadata": {},
     "output_type": "execute_result"
    }
   ],
   "source": [
    "#Matching String with reversed string if matching Palindrome else not\n",
    "s4==s5"
   ]
  },
  {
   "cell_type": "code",
   "execution_count": null,
   "id": "2cebe05c-9426-4b3c-9a41-5327729299d9",
   "metadata": {},
   "outputs": [],
   "source": [
    "'''5. Create a program that takes a string as input and removes all the spaces from it. Print the modified string without spaces. '''"
   ]
  },
  {
   "cell_type": "code",
   "execution_count": 108,
   "id": "02cbad14-7816-46eb-aa9e-31a431b55d96",
   "metadata": {},
   "outputs": [],
   "source": [
    "s6=\"cha  ra  nn m  c\""
   ]
  },
  {
   "cell_type": "code",
   "execution_count": 125,
   "id": "0143ebfc-0e2e-44b3-98a9-d546a43d4160",
   "metadata": {},
   "outputs": [
    {
     "data": {
      "text/plain": [
       "'charannmc'"
      ]
     },
     "execution_count": 125,
     "metadata": {},
     "output_type": "execute_result"
    }
   ],
   "source": [
    "#Replacing blank places\n",
    "s6.replace(\" \",\"\")"
   ]
  },
  {
   "cell_type": "code",
   "execution_count": null,
   "id": "1ccb500a-b484-46a3-8b7e-66fc0ceb6ee0",
   "metadata": {},
   "outputs": [],
   "source": []
  }
 ],
 "metadata": {
  "kernelspec": {
   "display_name": "Python 3 (ipykernel)",
   "language": "python",
   "name": "python3"
  },
  "language_info": {
   "codemirror_mode": {
    "name": "ipython",
    "version": 3
   },
   "file_extension": ".py",
   "mimetype": "text/x-python",
   "name": "python",
   "nbconvert_exporter": "python",
   "pygments_lexer": "ipython3",
   "version": "3.10.8"
  }
 },
 "nbformat": 4,
 "nbformat_minor": 5
}
