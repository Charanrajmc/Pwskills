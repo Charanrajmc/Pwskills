{
 "cells": [
  {
   "cell_type": "code",
   "execution_count": null,
   "id": "27a32db6-dd5b-4d1a-a7be-8e120e72628e",
   "metadata": {},
   "outputs": [],
   "source": [
    "#1.Write a Python program to print the numbers from 1 to 10 using a `for` loop."
   ]
  },
  {
   "cell_type": "code",
   "execution_count": 3,
   "id": "86788d5c-d909-41c7-ac92-f353ff90e2a8",
   "metadata": {},
   "outputs": [
    {
     "name": "stdout",
     "output_type": "stream",
     "text": [
      "1\n",
      "2\n",
      "3\n",
      "4\n",
      "5\n",
      "6\n",
      "7\n",
      "8\n",
      "9\n",
      "10\n"
     ]
    }
   ],
   "source": [
    "for i in range (1,11):\n",
    "    print(i)"
   ]
  },
  {
   "cell_type": "code",
   "execution_count": null,
   "id": "582354c1-9001-4919-8079-d3c82fb5ec07",
   "metadata": {},
   "outputs": [],
   "source": []
  },
  {
   "cell_type": "code",
   "execution_count": null,
   "id": "9a40bdd8-e64c-46e7-8368-e6f3b5d5325b",
   "metadata": {},
   "outputs": [],
   "source": [
    "#2. Create a program that calculates the sum of all numbers in a list using a `for` loop."
   ]
  },
  {
   "cell_type": "code",
   "execution_count": 8,
   "id": "240531cd-418d-4e97-a8c3-07555569d097",
   "metadata": {},
   "outputs": [
    {
     "name": "stdout",
     "output_type": "stream",
     "text": [
      "The sum of the numbers in the list is: 150\n"
     ]
    }
   ],
   "source": [
    "def sum_of_numbers(n):\n",
    "    total = 0\n",
    "    for number in n:\n",
    "        total += number\n",
    "    return total\n",
    "\n",
    "numbers = [10,20,30,40,50]\n",
    "print(f\"The sum of the numbers in the list is: {sum_of_numbers(numbers)}\")"
   ]
  },
  {
   "cell_type": "code",
   "execution_count": null,
   "id": "177c38c4-3b0c-4725-8a92-69177f1f42d7",
   "metadata": {},
   "outputs": [],
   "source": []
  },
  {
   "cell_type": "code",
   "execution_count": null,
   "id": "c8dec659-d27a-4021-a70d-88cf7a677a24",
   "metadata": {},
   "outputs": [],
   "source": [
    "#3. Write a program to print the characters of a string in reverse order using a `for` loop."
   ]
  },
  {
   "cell_type": "code",
   "execution_count": 10,
   "id": "766ed26b-8d26-4805-84ce-1b648da3bce6",
   "metadata": {},
   "outputs": [
    {
     "name": "stdout",
     "output_type": "stream",
     "text": [
      "Original String: Charan\n",
      "Reversed String: narahC"
     ]
    }
   ],
   "source": [
    "def print_reverse(s):\n",
    "    for i in range(len(s)-1, -1, -1):\n",
    "        print(s[i], end='')\n",
    "\n",
    "# Example usage:\n",
    "string_input = \"Charan\"\n",
    "print(\"Original String:\", string_input)\n",
    "print(\"Reversed String:\", end=' ')\n",
    "print_reverse(string_input)"
   ]
  },
  {
   "cell_type": "code",
   "execution_count": null,
   "id": "500371b1-579c-4d64-b226-07d74be217f8",
   "metadata": {},
   "outputs": [],
   "source": []
  },
  {
   "cell_type": "code",
   "execution_count": null,
   "id": "24f1d4c1-5457-4ec0-b17f-25fb7a6f6a43",
   "metadata": {},
   "outputs": [],
   "source": [
    "#4. Develop a program that finds the factorial of a given number using a `for` loop."
   ]
  },
  {
   "cell_type": "code",
   "execution_count": 11,
   "id": "3b1dca69-99a5-4dbf-a444-9bd3944273f8",
   "metadata": {},
   "outputs": [
    {
     "name": "stdin",
     "output_type": "stream",
     "text": [
      "Enter a number:  5\n"
     ]
    },
    {
     "name": "stdout",
     "output_type": "stream",
     "text": [
      "Factorial of 5 is: 120\n"
     ]
    }
   ],
   "source": [
    "def factorial(n):\n",
    "    result = 1\n",
    "    for i in range(1, n+1):\n",
    "        result *= i\n",
    "    return result\n",
    "\n",
    "number = int(input(\"Enter a number: \"))\n",
    "print(f\"Factorial of {number} is: {factorial(number)}\")"
   ]
  },
  {
   "cell_type": "code",
   "execution_count": null,
   "id": "e00db99f-fd06-4a95-a9bb-e099a4838328",
   "metadata": {},
   "outputs": [],
   "source": []
  },
  {
   "cell_type": "code",
   "execution_count": null,
   "id": "8a30f7d3-4ed0-431c-92e0-1733c11bb3c8",
   "metadata": {},
   "outputs": [],
   "source": [
    "#5. Create a program to print the multiplication table of a given number using a `for` loop."
   ]
  },
  {
   "cell_type": "code",
   "execution_count": 12,
   "id": "2b07f7df-c6f2-442b-879a-f10b048f19c7",
   "metadata": {},
   "outputs": [
    {
     "name": "stdin",
     "output_type": "stream",
     "text": [
      "Enter a number to generate its multiplication table:  8\n"
     ]
    },
    {
     "name": "stdout",
     "output_type": "stream",
     "text": [
      "8 x 1 = 8\n",
      "8 x 2 = 16\n",
      "8 x 3 = 24\n",
      "8 x 4 = 32\n",
      "8 x 5 = 40\n",
      "8 x 6 = 48\n",
      "8 x 7 = 56\n",
      "8 x 8 = 64\n",
      "8 x 9 = 72\n",
      "8 x 10 = 80\n"
     ]
    }
   ],
   "source": [
    "def print_multiplication_table(n, upto=10):\n",
    "    for i in range(1, upto + 1):\n",
    "        print(f\"{n} x {i} = {n * i}\")\n",
    "\n",
    "# Example usage:\n",
    "number = int(input(\"Enter a number to generate its multiplication table: \"))\n",
    "print_multiplication_table(number)"
   ]
  },
  {
   "cell_type": "code",
   "execution_count": null,
   "id": "aec1f32b-8d63-430f-a979-63c46bcb08e4",
   "metadata": {},
   "outputs": [],
   "source": []
  },
  {
   "cell_type": "code",
   "execution_count": null,
   "id": "c68da039-fa3c-4081-9ad5-8657d0d92e19",
   "metadata": {},
   "outputs": [],
   "source": [
    "#6. Write a program that counts the number of even and odd numbers in a list using a `for` loop."
   ]
  },
  {
   "cell_type": "code",
   "execution_count": 13,
   "id": "09a93e90-e008-4c8f-9545-4920449d2f44",
   "metadata": {},
   "outputs": [
    {
     "name": "stdout",
     "output_type": "stream",
     "text": [
      "Even numbers: 2\n",
      "Odd numners: 3\n"
     ]
    }
   ],
   "source": [
    "def count_even_odd(n):\n",
    "    count_even = 0\n",
    "    count_odd = 0\n",
    "    for num in n:\n",
    "        if num%2==0:\n",
    "            count_even +=1\n",
    "        else:\n",
    "            count_odd +=1\n",
    "    return count_even, count_odd\n",
    "\n",
    "n = [1,2,3,5,6]\n",
    "\n",
    "print(f\"Even numbers: {count_even}\")\n",
    "print(f\"Odd numners: {count_odd}\")"
   ]
  },
  {
   "cell_type": "code",
   "execution_count": null,
   "id": "2e89bdd0-8599-47cd-ab9b-973d953e498a",
   "metadata": {},
   "outputs": [],
   "source": []
  },
  {
   "cell_type": "code",
   "execution_count": null,
   "id": "e5e59761-2843-48fc-b19e-93309bbb3389",
   "metadata": {},
   "outputs": [],
   "source": [
    "#7. Develop a program that prints the squares of numbers from 1 to 5 using a `for` loop."
   ]
  },
  {
   "cell_type": "code",
   "execution_count": 31,
   "id": "bf80583b-4107-40a6-9ca2-b6f9a6a3f771",
   "metadata": {},
   "outputs": [
    {
     "name": "stdout",
     "output_type": "stream",
     "text": [
      "square of 1 is 1\n",
      "square of 2 is 4\n",
      "square of 3 is 9\n",
      "square of 4 is 16\n",
      "square of 5 is 25\n"
     ]
    }
   ],
   "source": [
    "def square_print(n):\n",
    "    for i in range(1,n+1):\n",
    "        Sqr=i*i\n",
    "        print(f\"square of {i} is {Sqr}\")\n",
    "        \n",
    "        \n",
    "square_print(5)"
   ]
  },
  {
   "cell_type": "code",
   "execution_count": null,
   "id": "2ffd72c9-6b6d-4de6-a8a6-f355e9d60829",
   "metadata": {},
   "outputs": [],
   "source": []
  },
  {
   "cell_type": "code",
   "execution_count": null,
   "id": "3f9814ba-d15c-414a-b7f8-8c8b63929da7",
   "metadata": {},
   "outputs": [],
   "source": [
    "#8. Create a program to find the length of a string without using the `len()` function. "
   ]
  },
  {
   "cell_type": "code",
   "execution_count": 52,
   "id": "0b37ae9b-dceb-4ea0-800e-1c35441db12e",
   "metadata": {},
   "outputs": [
    {
     "name": "stdout",
     "output_type": "stream",
     "text": [
      "length of string 'My name is charan' is : 17\n"
     ]
    }
   ],
   "source": [
    "def string_len(s):\n",
    "    count_len=0\n",
    "    for i in s:\n",
    "        count_len +=1\n",
    "    return count_len\n",
    "    \n",
    "string=(\"My name is charan\") \n",
    "length=string_len(string)\n",
    "print(f\"length of string '{string}' is : {length}\")"
   ]
  },
  {
   "cell_type": "code",
   "execution_count": null,
   "id": "6ee189cb-0d84-412d-a46f-0bb3b560c0ec",
   "metadata": {},
   "outputs": [],
   "source": []
  },
  {
   "cell_type": "code",
   "execution_count": null,
   "id": "e22ffef8-469f-4059-917a-abfc9e31fc1b",
   "metadata": {},
   "outputs": [],
   "source": [
    "#9. Write a program that calculates the average of a list of numbers using a `for` loop."
   ]
  },
  {
   "cell_type": "code",
   "execution_count": 57,
   "id": "b4b82555-a30e-47aa-918a-3ef05c7c7f87",
   "metadata": {},
   "outputs": [
    {
     "name": "stdout",
     "output_type": "stream",
     "text": [
      "average of number :40.0\n"
     ]
    }
   ],
   "source": [
    "def average_num(n):\n",
    "    total=0\n",
    "    for i in n:\n",
    "        total += i\n",
    "    average = total/len(n)\n",
    "    return average\n",
    "\n",
    "num = [10,30,40,80]\n",
    "avg=average_num(num)\n",
    "print(f\"average of number :{avg}\")"
   ]
  },
  {
   "cell_type": "code",
   "execution_count": null,
   "id": "cd4b9a8f-8d0b-4a96-8f56-f156f460a150",
   "metadata": {},
   "outputs": [],
   "source": []
  },
  {
   "cell_type": "code",
   "execution_count": null,
   "id": "504372bc-6482-45d0-9b3a-b5538c3f0b8e",
   "metadata": {},
   "outputs": [],
   "source": [
    "#10. Develop a program that prints the first `n` Fibonacci numbers using a `for` loop. "
   ]
  },
  {
   "cell_type": "code",
   "execution_count": 62,
   "id": "ecc0647b-9993-413b-8c41-8d381868d9b0",
   "metadata": {},
   "outputs": [
    {
     "name": "stdout",
     "output_type": "stream",
     "text": [
      "The first 10 Fibonacci numbers are:\n",
      "0 1 1 2 3 5 8 13 21 34 "
     ]
    }
   ],
   "source": [
    "def print_fibonacci(n):\n",
    "    if n <= 0:\n",
    "        return\n",
    "    elif n == 1:\n",
    "        print(\"0\")\n",
    "        return\n",
    "    elif n == 2:\n",
    "        print(\"0 1\")\n",
    "        return\n",
    "\n",
    "    a, b = 0, 1\n",
    "    print(a, end=\" \")\n",
    "    print(b, end=\" \")\n",
    "    \n",
    "    for _ in range(2, n):\n",
    "        fib = a + b\n",
    "        print(fib, end=\" \")\n",
    "        a, b = b, fib\n",
    "\n",
    "# Test the function\n",
    "num_terms = 10\n",
    "print(f\"The first {num_terms} Fibonacci numbers are:\")\n",
    "print_fibonacci(num_terms)\n"
   ]
  },
  {
   "cell_type": "code",
   "execution_count": null,
   "id": "1bab6225-5310-41e9-b78b-b73696c96d6b",
   "metadata": {},
   "outputs": [],
   "source": []
  },
  {
   "cell_type": "code",
   "execution_count": null,
   "id": "952d8300-f0d0-428a-aa78-9f3dfb0d7ced",
   "metadata": {},
   "outputs": [],
   "source": [
    "#11. Write a program to check if a given list contains any duplicates using a `for` loop. "
   ]
  },
  {
   "cell_type": "code",
   "execution_count": 3,
   "id": "39bd655c-e437-46d8-953b-e4edb1587d39",
   "metadata": {},
   "outputs": [
    {
     "name": "stdout",
     "output_type": "stream",
     "text": [
      "The list contains duplicates.\n"
     ]
    }
   ],
   "source": [
    "def has_duplicates(l):\n",
    "    checked_items = []\n",
    "\n",
    "    for item in l:\n",
    "        if item in checked_items:\n",
    "            return True\n",
    "        checked_items.append(item)\n",
    "\n",
    "    return False\n",
    "\n",
    "sample_list = [1, 2, 3, 4, 5,3]\n",
    "\n",
    "if has_duplicates(sample_list):\n",
    "    print(\"The list contains duplicates.\")\n",
    "else:\n",
    "    print(\"The list does not contain duplicates.\")\n"
   ]
  },
  {
   "cell_type": "code",
   "execution_count": null,
   "id": "83e77e34-e366-4516-a7f6-3a88540ab296",
   "metadata": {},
   "outputs": [],
   "source": []
  },
  {
   "cell_type": "code",
   "execution_count": null,
   "id": "4e98c0f4-41ac-475a-b0e1-7690662e9eef",
   "metadata": {},
   "outputs": [],
   "source": [
    "#12. Create a program that prints the prime numbers in a given range using a `for` loop."
   ]
  },
  {
   "cell_type": "code",
   "execution_count": 4,
   "id": "1b75ec3c-bcb0-4dc8-8bf3-fc16f1fed010",
   "metadata": {},
   "outputs": [
    {
     "name": "stdout",
     "output_type": "stream",
     "text": [
      "Prime numbers between 10 and 50 are:\n",
      "11\n",
      "13\n",
      "17\n",
      "19\n",
      "23\n",
      "29\n",
      "31\n",
      "37\n",
      "41\n",
      "43\n",
      "47\n"
     ]
    }
   ],
   "source": [
    "def prime_nu(num):\n",
    "    if num <= 1:\n",
    "        return False\n",
    "    for  i in range (2, int(num**0.5)+1):\n",
    "        if num % i == 0:\n",
    "            return False\n",
    "    return True\n",
    "\n",
    "def prime_range(start,end):\n",
    "    for num in range(start, end +1):\n",
    "        if prime_nu(num):\n",
    "            print(num)\n",
    "            \n",
    "start_range = 10\n",
    "end_range = 50\n",
    "print(f\"Prime numbers between {start_range} and {end_range} are:\")\n",
    "prime_range(start_range, end_range)"
   ]
  },
  {
   "cell_type": "code",
   "execution_count": null,
   "id": "94ede941-2256-4aad-b2bb-fb11412c6371",
   "metadata": {},
   "outputs": [],
   "source": []
  },
  {
   "cell_type": "code",
   "execution_count": null,
   "id": "8d909377-8975-4950-9c8f-88162338123b",
   "metadata": {},
   "outputs": [],
   "source": [
    "#13. Develop a program that counts the number of vowels in a string using a `for` loop. "
   ]
  },
  {
   "cell_type": "code",
   "execution_count": 5,
   "id": "5bcb7a94-add0-4810-b80a-9b6e1628b077",
   "metadata": {},
   "outputs": [
    {
     "name": "stdout",
     "output_type": "stream",
     "text": [
      "The nu of vowels in 'Pwskills Pwlabs for you' is: 5\n"
     ]
    }
   ],
   "source": [
    "def count_vowels(s):\n",
    "    vowels = \"AEIOUaeiou\"\n",
    "    count=0\n",
    "    \n",
    "    for i in s:\n",
    "        if i in vowels:\n",
    "            count +=1\n",
    "    return count\n",
    "\n",
    "string = \"Pwskills Pwlabs for you\"\n",
    "vowel_count = count_vowels(string)\n",
    "print(f\"The nu of vowels in '{string}' is: {vowel_count}\")"
   ]
  },
  {
   "cell_type": "code",
   "execution_count": null,
   "id": "184301eb-885c-40e0-a9b9-e91205aa44ee",
   "metadata": {},
   "outputs": [],
   "source": []
  },
  {
   "cell_type": "code",
   "execution_count": null,
   "id": "f328f515-1399-400e-a0b8-d01de21e4a0a",
   "metadata": {},
   "outputs": [],
   "source": [
    "#14. Write a program to find the maximum element in a 2D list using a nested `for` loop."
   ]
  },
  {
   "cell_type": "code",
   "execution_count": 6,
   "id": "206039ea-1b7b-4265-99f0-7ce213075897",
   "metadata": {},
   "outputs": [
    {
     "name": "stdout",
     "output_type": "stream",
     "text": [
      "The maximum value in the matrix is: 9\n"
     ]
    }
   ],
   "source": [
    "def find_max_2d(matrix):\n",
    "    if not matrix or not matrix[0]: \n",
    "        return None\n",
    "    \n",
    "    max_element = matrix[0][0]\n",
    "\n",
    "    for row in matrix:\n",
    "        for num in row:\n",
    "            if num > max_element:\n",
    "                max_element = num\n",
    "\n",
    "    return max_element\n",
    "\n",
    "# Test the function\n",
    "sample_matrix = [\n",
    "    [1, 2, 3],\n",
    "    [4, 5, 6],\n",
    "    [7, 8, 9]\n",
    "]\n",
    "max_value = find_max_2d(sample_matrix)\n",
    "print(f\"The maximum value in the matrix is: {max_value}\")\n"
   ]
  },
  {
   "cell_type": "code",
   "execution_count": null,
   "id": "61b42344-2fc3-4813-af3b-9d79b4cf0674",
   "metadata": {},
   "outputs": [],
   "source": []
  },
  {
   "cell_type": "code",
   "execution_count": null,
   "id": "057890c4-03aa-4e05-b04e-31102df5e0b1",
   "metadata": {},
   "outputs": [],
   "source": [
    "#15. Create a program that removes all occurrences of a specific element from a list using a `for` loop. "
   ]
  },
  {
   "cell_type": "code",
   "execution_count": 7,
   "id": "dc4e32d6-c51c-4818-b182-ffd40bcbdbc3",
   "metadata": {},
   "outputs": [
    {
     "name": "stdout",
     "output_type": "stream",
     "text": [
      "Original List: [1, 2, 3, 4, 2, 5, 6, 2, 7]\n",
      "List after removing all occurrences of 2: [1, 3, 4, 5, 6, 7]\n"
     ]
    }
   ],
   "source": [
    "def remove_all_occurrences(lst, element):\n",
    "    new_list = []\n",
    "    \n",
    "    for item in lst:\n",
    "        if item != element:\n",
    "            new_list.append(item)\n",
    "    \n",
    "    return new_list\n",
    "\n",
    "\n",
    "sample_list = [1, 2, 3, 4, 2, 5, 6, 2, 7]\n",
    "element_to_remove = 2\n",
    "new_list = remove_all_occurrences(sample_list, element_to_remove)\n",
    "print(f\"Original List: {sample_list}\")\n",
    "print(f\"List after removing all occurrences of {element_to_remove}: {new_list}\")\n"
   ]
  },
  {
   "cell_type": "code",
   "execution_count": null,
   "id": "dc02a5cf-16a7-4a6b-a11d-5d31ecd055bf",
   "metadata": {},
   "outputs": [],
   "source": []
  },
  {
   "cell_type": "code",
   "execution_count": null,
   "id": "b22e64f5-9a06-460c-9ff1-36892d3bdea9",
   "metadata": {},
   "outputs": [],
   "source": [
    "#16. Develop a program that generates a multiplication table for numbers from 1 to 5 using a nested `for` loop. "
   ]
  },
  {
   "cell_type": "code",
   "execution_count": 8,
   "id": "0daf8a01-f36c-4fed-ae56-769a1bc2e6f5",
   "metadata": {},
   "outputs": [
    {
     "name": "stdout",
     "output_type": "stream",
     "text": [
      "1 x 1 = 1\n",
      "1 x 2 = 2\n",
      "1 x 3 = 3\n",
      "1 x 4 = 4\n",
      "1 x 5 = 5\n",
      "-----\n",
      "2 x 1 = 2\n",
      "2 x 2 = 4\n",
      "2 x 3 = 6\n",
      "2 x 4 = 8\n",
      "2 x 5 = 10\n",
      "-----\n",
      "3 x 1 = 3\n",
      "3 x 2 = 6\n",
      "3 x 3 = 9\n",
      "3 x 4 = 12\n",
      "3 x 5 = 15\n",
      "-----\n",
      "4 x 1 = 4\n",
      "4 x 2 = 8\n",
      "4 x 3 = 12\n",
      "4 x 4 = 16\n",
      "4 x 5 = 20\n",
      "-----\n",
      "5 x 1 = 5\n",
      "5 x 2 = 10\n",
      "5 x 3 = 15\n",
      "5 x 4 = 20\n",
      "5 x 5 = 25\n",
      "-----\n"
     ]
    }
   ],
   "source": [
    "def print_multiplication_table(n):\n",
    "    for i in range(1, n + 1):\n",
    "        for j in range(1, n + 1):\n",
    "            print(f\"{i} x {j} = {i * j}\")\n",
    "        print(\"-----\")  \n",
    "\n",
    "print_multiplication_table(5)\n"
   ]
  },
  {
   "cell_type": "code",
   "execution_count": null,
   "id": "0fb9bc23-d0d8-47e2-8c46-9e8688c5e71c",
   "metadata": {},
   "outputs": [],
   "source": []
  },
  {
   "cell_type": "code",
   "execution_count": null,
   "id": "a3f6bb40-b608-4d72-8b89-6108cdd7f160",
   "metadata": {},
   "outputs": [],
   "source": [
    "#17. Write a program that converts a list of Fahrenheit temperatures to Celsius using a `for` loop."
   ]
  },
  {
   "cell_type": "code",
   "execution_count": 1,
   "id": "0e031f60-d944-4c4b-9e3b-037694011c52",
   "metadata": {},
   "outputs": [
    {
     "name": "stdout",
     "output_type": "stream",
     "text": [
      "Fahrenheit Temp : [32, 68, 100, 212]\n",
      "celsius Temp : [0.0, 20.0, 37.77777777777778, 100.0]\n"
     ]
    }
   ],
   "source": [
    "def f_to_c(f):\n",
    "    return (f - 32)*5/9\n",
    "\n",
    "def conv_list_to_c(f_list):\n",
    "    c_list = []\n",
    "    \n",
    "    for temp in f_list:\n",
    "        c_temp=f_to_c(temp)\n",
    "        c_list.append(c_temp)\n",
    "    \n",
    "    return c_list\n",
    "\n",
    "f_t = [32,68,100,212]\n",
    "c_t = conv_list_to_c(f_t)\n",
    "print(f\"Fahrenheit Temp : {f_t}\")\n",
    "print(f\"celsius Temp : {c_t}\")"
   ]
  },
  {
   "cell_type": "code",
   "execution_count": null,
   "id": "6eb6940e-77a0-4f81-b77d-4d20c46def3a",
   "metadata": {},
   "outputs": [],
   "source": []
  },
  {
   "cell_type": "code",
   "execution_count": null,
   "id": "64bcad05-f2c1-43c3-bcb2-0e71645f3049",
   "metadata": {},
   "outputs": [],
   "source": [
    "#18. Create a program to print the common elements from two lists using a `for` loop."
   ]
  },
  {
   "cell_type": "code",
   "execution_count": 3,
   "id": "75eafb1d-8631-4dc2-a029-3e5bfd07cc17",
   "metadata": {},
   "outputs": [
    {
     "name": "stdout",
     "output_type": "stream",
     "text": [
      "common elements : [8, 5, 2, 4]\n"
     ]
    }
   ],
   "source": [
    "def common_element(list1, list2):\n",
    "    common = []\n",
    "    \n",
    "    for element in list1:\n",
    "        if element in list2 and element not in common:\n",
    "            common.append(element)\n",
    "    return common\n",
    "\n",
    "list1 = [8,5,2,4,5,6,8]\n",
    "list2 = [7,4,1,2,5,8,9]\n",
    "common=common_element(list1,list2)\n",
    "print(f\"common elements : {common}\")"
   ]
  },
  {
   "cell_type": "code",
   "execution_count": null,
   "id": "54e0412d-6443-4b66-b5d0-c0fc316aba32",
   "metadata": {},
   "outputs": [],
   "source": []
  },
  {
   "cell_type": "code",
   "execution_count": null,
   "id": "ff9ef1e1-29c0-4ef4-b292-58ecf4f24d53",
   "metadata": {},
   "outputs": [],
   "source": [
    "#19. Develop a program that prints the pattern of right-angled triangles using a `for` loop. Use ‘*’ to draw the  pattern "
   ]
  },
  {
   "cell_type": "code",
   "execution_count": 5,
   "id": "bcf872a7-5f96-4354-b6da-41abf7da3f6b",
   "metadata": {},
   "outputs": [
    {
     "name": "stdout",
     "output_type": "stream",
     "text": [
      "*\n",
      "**\n",
      "***\n",
      "****\n",
      "*****\n",
      "******\n"
     ]
    }
   ],
   "source": [
    "def triangle(n):\n",
    "    for i in range(1, n+1):\n",
    "        print(\"*\" * i)\n",
    "\n",
    "number=6\n",
    "triangle(number)"
   ]
  },
  {
   "cell_type": "code",
   "execution_count": null,
   "id": "baad0d64-673d-4cd8-9f1f-fdccf1509291",
   "metadata": {},
   "outputs": [],
   "source": []
  },
  {
   "cell_type": "code",
   "execution_count": null,
   "id": "3c316f1a-1a40-4649-986c-314621d6c097",
   "metadata": {},
   "outputs": [],
   "source": [
    "#20. Write a program to find the greatest common divisor (GCD) of two numbers using a `for` loop. "
   ]
  },
  {
   "cell_type": "code",
   "execution_count": 9,
   "id": "613a72aa-e330-4b7c-b615-db51f101a09d",
   "metadata": {},
   "outputs": [
    {
     "name": "stdout",
     "output_type": "stream",
     "text": [
      "The GCD of Numbers is : 14\n"
     ]
    }
   ],
   "source": [
    "def gcd(num1, num2):\n",
    "    if num1 == 0:\n",
    "        return num2\n",
    "    if num2 == 0:\n",
    "        return num1\n",
    "    \n",
    "    if num1 > num2:\n",
    "        smaller = num2\n",
    "    else:\n",
    "        smaller = num1\n",
    "    \n",
    "    for i in range(smaller,0,-1):\n",
    "        if num1 % i == 0 and num2 % i ==0:\n",
    "            return i\n",
    "\n",
    "number1 = 56\n",
    "number2 = 98\n",
    "numbers = gcd(number1,number2)\n",
    "print(f\"The GCD of Numbers is : {numbers}\")"
   ]
  },
  {
   "cell_type": "code",
   "execution_count": null,
   "id": "6077a770-9901-4c00-830f-2688c8d1ebad",
   "metadata": {},
   "outputs": [],
   "source": []
  }
 ],
 "metadata": {
  "kernelspec": {
   "display_name": "Python 3 (ipykernel)",
   "language": "python",
   "name": "python3"
  },
  "language_info": {
   "codemirror_mode": {
    "name": "ipython",
    "version": 3
   },
   "file_extension": ".py",
   "mimetype": "text/x-python",
   "name": "python",
   "nbconvert_exporter": "python",
   "pygments_lexer": "ipython3",
   "version": "3.10.8"
  }
 },
 "nbformat": 4,
 "nbformat_minor": 5
}
